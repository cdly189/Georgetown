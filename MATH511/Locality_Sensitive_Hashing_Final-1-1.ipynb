{
 "cells": [
  {
   "cell_type": "markdown",
   "metadata": {
    "id": "edPD9ax2snXX"
   },
   "source": [
    "# Implementation Code for Locality Sensitive Hashing algorithm\n",
    "\n",
    "### *****PLEASE RESTART RUNTIME AND RUN ALL CELLS IN NOTEBOOK*****"
   ]
  },
  {
   "cell_type": "code",
   "execution_count": 1,
   "metadata": {
    "executionInfo": {
     "elapsed": 1234,
     "status": "ok",
     "timestamp": 1665546876390,
     "user": {
      "displayName": "Sridhar Iyer",
      "userId": "07017189305564796718"
     },
     "user_tz": 240
    },
    "id": "qitsgcof_m-C"
   },
   "outputs": [],
   "source": [
    "import random\n",
    "import numpy as np\n",
    "import pandas as pd\n",
    "import matplotlib.pyplot as plt\n",
    "import seaborn as sns"
   ]
  },
  {
   "cell_type": "markdown",
   "metadata": {
    "id": "dKR1CqO10L0Y"
   },
   "source": [
    "# CODE BLOCK #1: Defining sentences to work with"
   ]
  },
  {
   "cell_type": "code",
   "execution_count": 2,
   "metadata": {
    "executionInfo": {
     "elapsed": 24,
     "status": "ok",
     "timestamp": 1665546876391,
     "user": {
      "displayName": "Sridhar Iyer",
      "userId": "07017189305564796718"
     },
     "user_tz": 240
    },
    "id": "u5Ydnozd_5gF"
   },
   "outputs": [],
   "source": [
    "sa = \"Earth is the third planet\"\n",
    "sb = \"USA is the third largest country\"\n",
    "sc = \"Pluto is the nineth planet\""
   ]
  },
  {
   "cell_type": "markdown",
   "metadata": {
    "id": "Hyzj8MiF9KuB"
   },
   "source": [
    "# CODE BLOCK #2: Create k-shingles where it is unlikely to produce matching shingles between non matching text. We will test this for k=2, 9"
   ]
  },
  {
   "cell_type": "code",
   "execution_count": 3,
   "metadata": {
    "colab": {
     "base_uri": "https://localhost:8080/"
    },
    "executionInfo": {
     "elapsed": 23,
     "status": "ok",
     "timestamp": 1665546876391,
     "user": {
      "displayName": "Sridhar Iyer",
      "userId": "07017189305564796718"
     },
     "user_tz": 240
    },
    "id": "CV4ti5z5snXl",
    "outputId": "6632d7eb-4fd6-4296-f14d-553921cb7986"
   },
   "outputs": [
    {
     "name": "stdout",
     "output_type": "stream",
     "text": [
      "Earth is |arth is t|rth is th|th is the|h is the | is the t|is the th|s the thi| the thir|the third|he third |e third p| third pl|third pla|hird plan|ird plane|rd planet|\n",
      "\n",
      "USA is th|SA is the|A is the | is the t|is the th|s the thi| the thir|the third|he third |e third l| third la|third lar|hird larg|ird large|rd larges|d largest| largest |largest c|argest co|rgest cou|gest coun|est count|st countr|t country|\n",
      "\n",
      "Pluto is |luto is t|uto is th|to is the|o is the | is the n|is the ni|s the nin| the nine|the ninet|he nineth|e nineth | nineth p|nineth pl|ineth pla|neth plan|eth plane|th planet|"
     ]
    }
   ],
   "source": [
    "#k = 2\n",
    "k = 9\n",
    "\n",
    "for i in range(len(sa) - k+1):\n",
    "    print(sa[i: i+k], end='|')\n",
    "print('\\n')\n",
    "for i in range(len(sb) - k+1):\n",
    "    print(sb[i: i+k], end='|')\n",
    "print('\\n')\n",
    "for i in range(len(sc) - k+1):\n",
    "    print(sc[i: i+k], end='|')"
   ]
  },
  {
   "cell_type": "markdown",
   "metadata": {
    "id": "m5cTm8gMsnXn"
   },
   "source": [
    "Duplicate value in the sentence shingles are removed using the Python type `set`. This is achieved by invoking the 'shingle' function for each sentence."
   ]
  },
  {
   "cell_type": "code",
   "execution_count": 4,
   "metadata": {
    "colab": {
     "base_uri": "https://localhost:8080/"
    },
    "executionInfo": {
     "elapsed": 21,
     "status": "ok",
     "timestamp": 1665546876392,
     "user": {
      "displayName": "Sridhar Iyer",
      "userId": "07017189305564796718"
     },
     "user_tz": 240
    },
    "id": "y48pbXH8snXp",
    "outputId": "bd21c5ec-3541-4737-d6fd-6509d31e5eee"
   },
   "outputs": [
    {
     "name": "stdout",
     "output_type": "stream",
     "text": [
      "17 ,  {'h is the ', 'th is the', 'the third', 'ird plane', 'Earth is ', 'arth is t', ' third pl', 'third pla', ' the thir', ' is the t', 's the thi', 'e third p', 'rd planet', 'he third ', 'is the th', 'rth is th', 'hird plan'}\n",
      "24 ,  {' third la', 'SA is the', 'est count', 'hird larg', 's the thi', 'gest coun', 'st countr', 'the third', 'argest co', 'is the th', 'third lar', 'rgest cou', 'd largest', 'e third l', 'he third ', ' the thir', ' largest ', 'A is the ', 'USA is th', 'ird large', 't country', 'largest c', ' is the t', 'rd larges'}\n",
      "18 ,  {'nineth pl', 'to is the', 'neth plan', 'o is the ', 'luto is t', ' is the n', 'eth plane', 'th planet', ' the nine', ' nineth p', 'e nineth ', 's the nin', 'the ninet', 'he nineth', 'ineth pla', 'Pluto is ', 'is the ni', 'uto is th'}\n"
     ]
    }
   ],
   "source": [
    "def shingle(text: str, k: int):\n",
    "    shingle_set = []\n",
    "    for i in range(len(text) - k+1):\n",
    "        shingle_set.append(text[i:i+k])\n",
    "    return set(shingle_set)\n",
    "\n",
    "a = shingle(sa, k)\n",
    "b = shingle(sb, k)\n",
    "c = shingle(sc, k)\n",
    "\n",
    "print(len(a), \", \", a)\n",
    "print(len(b), \", \", b)\n",
    "print(len(c), \", \", c)"
   ]
  },
  {
   "cell_type": "markdown",
   "metadata": {
    "id": "i_81wmJ0ABYL"
   },
   "source": [
    "Jaccard similarity metric is used to match similarity between sentences. It is measured by the ratio of count of shingles common between a sentence pairMeasure matching shingles between any two sentence pairs. As shingles size increase, the count of matching shingles between \n",
    "sentences (a, b) reduce.\n",
    "\n"
   ]
  },
  {
   "cell_type": "code",
   "execution_count": 5,
   "metadata": {
    "executionInfo": {
     "elapsed": 18,
     "status": "ok",
     "timestamp": 1665546876393,
     "user": {
      "displayName": "Sridhar Iyer",
      "userId": "07017189305564796718"
     },
     "user_tz": 240
    },
    "id": "ehS6kDA4zrG8"
   },
   "outputs": [],
   "source": [
    "def jaccard(a: set, b: set):\n",
    "    return len(a.intersection(b)) / len(a.union(b))"
   ]
  },
  {
   "cell_type": "code",
   "execution_count": 6,
   "metadata": {
    "colab": {
     "base_uri": "https://localhost:8080/"
    },
    "executionInfo": {
     "elapsed": 19,
     "status": "ok",
     "timestamp": 1665546876394,
     "user": {
      "displayName": "Sridhar Iyer",
      "userId": "07017189305564796718"
     },
     "user_tz": 240
    },
    "id": "wxv0ECNeAQla",
    "outputId": "755c85f5-20ff-41bd-c9cb-e4e529fb77e8"
   },
   "outputs": [
    {
     "data": {
      "text/plain": [
       "(0.17142857142857143, 0.0, 0.0)"
      ]
     },
     "execution_count": 6,
     "metadata": {},
     "output_type": "execute_result"
    }
   ],
   "source": [
    "jaccard(a, b), jaccard(b, c), jaccard(a, c)"
   ]
  },
  {
   "cell_type": "markdown",
   "metadata": {
    "id": "UXzEgLVv0IBj"
   },
   "source": [
    "# CODE BLOCK #3 With billions of documents, the processing of k-shingle sets for similarity, raises time and space complexity issues. Following code blocks address this. Focus of this code block is on the second step of LSH, namely MinHashing"
   ]
  },
  {
   "cell_type": "markdown",
   "metadata": {
    "id": "0qmrqVvDsnXq"
   },
   "source": [
    "First we create a shingle vocabulary by creating a `union` between all three sets."
   ]
  },
  {
   "cell_type": "code",
   "execution_count": 7,
   "metadata": {
    "colab": {
     "base_uri": "https://localhost:8080/"
    },
    "executionInfo": {
     "elapsed": 15,
     "status": "ok",
     "timestamp": 1665546876395,
     "user": {
      "displayName": "Sridhar Iyer",
      "userId": "07017189305564796718"
     },
     "user_tz": 240
    },
    "id": "mSX1qqLSsnXr",
    "outputId": "d00761e1-ba33-4cba-d7fb-f174a442d7f9"
   },
   "outputs": [
    {
     "name": "stdout",
     "output_type": "stream",
     "text": [
      "53 [' third la', 'nineth pl', 'th is the', 'neth plan', 'luto is t', 'SA is the', 'est count', ' nineth p', 'third pla', 'e nineth ', 's the nin', 'hird larg', 's the thi', 'Pluto is ', 'gest coun', 'st countr', 'the third', 'ird plane', 'argest co', 'arth is t', 'o is the ', 'eth plane', 'th planet', 'ineth pla', 'he nineth', 'e third p', 'is the th', 'uto is th', 'h is the ', 'to is the', 'third lar', 'rgest cou', 'd largest', ' the nine', 'rd planet', 'he third ', 'e third l', ' the thir', 'rth is th', 'hird plan', 'Earth is ', ' largest ', ' is the n', 'A is the ', 'USA is th', 'ird large', 't country', 'largest c', 'the ninet', ' is the t', ' third pl', 'is the ni', 'rd larges']\n"
     ]
    }
   ],
   "source": [
    "vocab = list(a.union(b).union(c))\n",
    "print(len(vocab), vocab)"
   ]
  },
  {
   "cell_type": "markdown",
   "metadata": {
    "id": "HSwuEorpsnXs"
   },
   "source": [
    "Using this vocab we create one-hot encoded sparse vectors to represent the three shingles set."
   ]
  },
  {
   "cell_type": "code",
   "execution_count": 8,
   "metadata": {
    "colab": {
     "base_uri": "https://localhost:8080/"
    },
    "executionInfo": {
     "elapsed": 29,
     "status": "ok",
     "timestamp": 1665546876554,
     "user": {
      "displayName": "Sridhar Iyer",
      "userId": "07017189305564796718"
     },
     "user_tz": 240
    },
    "id": "2CmWaNpXsnXv",
    "outputId": "eee18e89-d0f5-44ca-a7db-75ce12332ffe"
   },
   "outputs": [
    {
     "name": "stdout",
     "output_type": "stream",
     "text": [
      "53 [0, 0, 1, 0, 0, 0, 0, 0, 1, 0, 0, 0, 1, 0, 0, 0, 1, 1, 0, 1, 0, 0, 0, 0, 0, 1, 1, 0, 1, 0, 0, 0, 0, 0, 1, 1, 0, 1, 1, 1, 1, 0, 0, 0, 0, 0, 0, 0, 0, 1, 1, 0, 0]\n",
      "53 [1, 0, 0, 0, 0, 1, 1, 0, 0, 0, 0, 1, 1, 0, 1, 1, 1, 0, 1, 0, 0, 0, 0, 0, 0, 0, 1, 0, 0, 0, 1, 1, 1, 0, 0, 1, 1, 1, 0, 0, 0, 1, 0, 1, 1, 1, 1, 1, 0, 1, 0, 0, 1]\n",
      "53 [0, 1, 0, 1, 1, 0, 0, 1, 0, 1, 1, 0, 0, 1, 0, 0, 0, 0, 0, 0, 1, 1, 1, 1, 1, 0, 0, 1, 0, 1, 0, 0, 0, 1, 0, 0, 0, 0, 0, 0, 0, 0, 1, 0, 0, 0, 0, 0, 1, 0, 0, 1, 0]\n"
     ]
    }
   ],
   "source": [
    "a_1hot = [1 if x in a else 0 for x in vocab]\n",
    "b_1hot = [1 if x in b else 0 for x in vocab]\n",
    "c_1hot = [1 if x in c else 0 for x in vocab]\n",
    "print(len(a_1hot), a_1hot)\n",
    "print(len(b_1hot), b_1hot)\n",
    "print(len(c_1hot), c_1hot)"
   ]
  },
  {
   "cell_type": "code",
   "execution_count": 9,
   "metadata": {
    "colab": {
     "base_uri": "https://localhost:8080/"
    },
    "executionInfo": {
     "elapsed": 30,
     "status": "ok",
     "timestamp": 1665546876557,
     "user": {
      "displayName": "Sridhar Iyer",
      "userId": "07017189305564796718"
     },
     "user_tz": 240
    },
    "id": "WPgC92-csnXy",
    "outputId": "422e7e08-880c-4aaa-b426-9f7127207a9f"
   },
   "outputs": [
    {
     "name": "stdout",
     "output_type": "stream",
     "text": [
      "[1, 2, 3, 4, 5, 6, 7, 8, 9, 10, 11, 12, 13, 14, 15, 16, 17, 18, 19, 20, 21, 22, 23, 24, 25, 26, 27, 28, 29, 30, 31, 32, 33, 34, 35, 36, 37, 38, 39, 40, 41, 42, 43, 44, 45, 46, 47, 48, 49, 50, 51, 52, 53]\n"
     ]
    }
   ],
   "source": [
    "hash_ex = list(range(1, len(vocab)+1))\n",
    "print(hash_ex)  # we haven't shuffled yet"
   ]
  },
  {
   "cell_type": "markdown",
   "metadata": {
    "id": "nWIxwQo6snXz"
   },
   "source": [
    "\n",
    "\n",
    "Step 1: Create say, 200 hash functions.\n",
    " \n",
    "(This is so as to emulate the processing of a large count of input documents - not just 3 sentences - as in our toy example)\n",
    "\n",
    "Step 2: Count up from 1 to len(vocab) + 1 and find if the resultant hash_ex.index(i) position in our one-hot encoded vectors contains a positive value (1) in that position\n",
    "\n",
    "Step 3: If so, append the index position to our signature for that vector.\n",
    "\n",
    "Thus, we simply process each one-hot vector through each hash function, appending the output value to our signature for that vector."
   ]
  },
  {
   "cell_type": "code",
   "execution_count": 10,
   "metadata": {
    "executionInfo": {
     "elapsed": 26,
     "status": "ok",
     "timestamp": 1665546876557,
     "user": {
      "displayName": "Sridhar Iyer",
      "userId": "07017189305564796718"
     },
     "user_tz": 240
    },
    "id": "ZFuhlx6ysnX4"
   },
   "outputs": [],
   "source": [
    "def create_hash_func(size: int):\n",
    "    # function for creating the hash vector/function\n",
    "    hash_ex = list(range(1, size+1))\n",
    "    random.shuffle(hash_ex)\n",
    "    return hash_ex\n",
    "\n",
    "def build_minhash_func(vocab_size: int, nbits: int):\n",
    "    # function for building multiple minhash vectors\n",
    "    hashes = []\n",
    "    for _ in range(nbits):\n",
    "        hashes.append(create_hash_func(vocab_size))\n",
    "    return hashes\n",
    "\n",
    "# we create 200 minhash vectors\n",
    "minhash_func = build_minhash_func(len(vocab), 200)\n",
    "#for i in range(200):\n",
    "#    print(f\"hash function {i+1}:\")\n",
    "#    print(minhash_func[i])"
   ]
  },
  {
   "cell_type": "code",
   "execution_count": 11,
   "metadata": {
    "colab": {
     "base_uri": "https://localhost:8080/"
    },
    "executionInfo": {
     "elapsed": 26,
     "status": "ok",
     "timestamp": 1665546876558,
     "user": {
      "displayName": "Sridhar Iyer",
      "userId": "07017189305564796718"
     },
     "user_tz": 240
    },
    "id": "KRLCiBZssnX4",
    "outputId": "f349652c-710e-4bb4-d71e-c9811b42f760"
   },
   "outputs": [
    {
     "name": "stdout",
     "output_type": "stream",
     "text": [
      "a_sig [8, 8, 26, 19, 8, 49, 34, 39, 49, 16, 19, 50, 25, 2, 16, 39, 34, 8, 37, 12, 8, 17, 17, 40, 25, 50, 26, 8, 8, 39, 16, 40, 35, 8, 40, 8, 12, 12, 12, 37, 8, 25, 49, 34, 37, 19, 37, 25, 12, 40, 50, 16, 12, 26, 38, 26, 25, 12, 28, 25, 8, 49, 16, 28, 16, 39, 25, 8, 28, 49, 39, 26, 12, 17, 28, 28, 2, 34, 26, 40, 40, 28, 16, 40, 34, 49, 28, 39, 39, 50, 50, 34, 39, 12, 39, 50, 37, 37, 49, 25, 40, 50, 37, 25, 50, 40, 26, 40, 50, 34, 35, 25, 49, 16, 40, 2, 39, 35, 38, 8, 19, 26, 40, 49, 16, 8, 8, 40, 2, 39, 19, 25, 35, 8, 39, 40, 19, 8, 8, 28, 19, 12, 35, 34, 40, 17, 19, 35, 8, 39, 26, 34, 37, 26, 26, 16, 34, 35, 2, 26, 19, 28, 8, 38, 8, 2, 25, 34, 35, 12, 40, 49, 28, 35, 50, 39, 28, 8, 19, 39, 8, 17, 19, 12, 38, 2, 16, 34, 25, 25, 16, 49, 35, 17, 19, 2, 34, 26, 49, 2]\n",
      "b_sig [49, 30, 26, 31, 46, 15, 46, 46, 49, 16, 32, 30, 6, 45, 16, 11, 41, 31, 11, 12, 18, 0, 11, 47, 44, 43, 46, 18, 30, 18, 32, 15, 0, 47, 6, 52, 32, 45, 12, 37, 0, 0, 49, 5, 0, 32, 45, 36, 0, 15, 31, 41, 12, 43, 12, 26, 31, 6, 14, 18, 31, 44, 16, 46, 16, 47, 46, 6, 15, 45, 31, 41, 46, 16, 43, 49, 44, 11, 0, 31, 31, 44, 16, 11, 26, 52, 0, 11, 44, 31, 26, 0, 41, 12, 0, 36, 37, 37, 41, 30, 6, 35, 18, 49, 49, 32, 26, 26, 46, 49, 47, 14, 49, 16, 52, 37, 52, 35, 41, 52, 15, 41, 36, 49, 16, 30, 12, 11, 26, 0, 41, 32, 18, 36, 30, 43, 41, 6, 32, 45, 32, 12, 35, 44, 31, 15, 52, 35, 11, 18, 26, 45, 18, 5, 26, 16, 5, 6, 47, 32, 52, 26, 47, 14, 52, 46, 47, 30, 35, 31, 11, 49, 14, 35, 45, 32, 16, 32, 49, 30, 18, 31, 45, 0, 16, 41, 52, 16, 6, 47, 36, 49, 35, 45, 31, 47, 5, 26, 49, 30]\n",
      "c_sig [1, 42, 23, 33, 27, 10, 22, 22, 48, 1, 23, 22, 27, 42, 20, 21, 29, 4, 51, 42, 9, 33, 27, 51, 42, 24, 29, 27, 13, 21, 48, 24, 10, 7, 29, 48, 20, 10, 29, 42, 42, 29, 3, 23, 48, 7, 23, 21, 3, 42, 9, 51, 27, 21, 21, 27, 51, 48, 48, 9, 42, 24, 42, 51, 3, 27, 7, 3, 4, 21, 13, 3, 48, 27, 7, 42, 22, 9, 20, 10, 9, 10, 23, 24, 20, 33, 24, 29, 29, 33, 23, 21, 3, 27, 10, 20, 10, 3, 27, 24, 27, 27, 48, 23, 21, 21, 7, 10, 23, 7, 20, 42, 29, 9, 27, 33, 23, 9, 51, 1, 22, 7, 48, 1, 27, 24, 9, 42, 3, 42, 42, 27, 42, 42, 48, 48, 29, 48, 21, 20, 10, 9, 51, 48, 22, 22, 42, 23, 22, 42, 24, 51, 20, 51, 1, 10, 10, 24, 7, 27, 22, 3, 9, 7, 29, 23, 48, 24, 9, 27, 48, 10, 27, 42, 1, 22, 24, 48, 3, 23, 51, 20, 10, 1, 24, 7, 13, 33, 9, 10, 22, 13, 1, 24, 48, 10, 21, 13, 33, 48]\n"
     ]
    }
   ],
   "source": [
    "def create_hash(vector: list):\n",
    "    # use this function for creating our signatures (eg the matching)\n",
    "    signature = []\n",
    "    for func in minhash_func:\n",
    "        for i in range(1, len(vocab)+1):\n",
    "            idx = func.index(i)\n",
    "            signature_val = vector[idx]\n",
    "            if signature_val == 1:\n",
    "                signature.append(idx)\n",
    "#                print(f\"{i} -> {idx} -> {signature_val}\")\n",
    "                break\n",
    "    return signature\n",
    "\n",
    "# now create signatures\n",
    "#print(len(a_1hot), a_1hot)\n",
    "a_sig = create_hash(a_1hot)\n",
    "print(\"a_sig\", a_sig)\n",
    "\n",
    "#print(\"\\n\", len(b_1hot), b_1hot)\n",
    "b_sig = create_hash(b_1hot)\n",
    "print(\"b_sig\", b_sig)\n",
    "\n",
    "#print(\"\\n\", len(c_1hot), c_1hot)\n",
    "c_sig = create_hash(c_1hot)\n",
    "print(\"c_sig\", c_sig)"
   ]
  },
  {
   "cell_type": "markdown",
   "metadata": {
    "id": "Cob-RrCKsnX4"
   },
   "source": [
    "We now have our three minhashed signatures. These signatures, despite being seemingly randomized, has on average the very similar Jaccard similarity values as our previous sparse vectors.\n"
   ]
  },
  {
   "cell_type": "code",
   "execution_count": 12,
   "metadata": {
    "colab": {
     "base_uri": "https://localhost:8080/"
    },
    "executionInfo": {
     "elapsed": 21,
     "status": "ok",
     "timestamp": 1665546876558,
     "user": {
      "displayName": "Sridhar Iyer",
      "userId": "07017189305564796718"
     },
     "user_tz": 240
    },
    "id": "vVS2_w1PsnX6",
    "outputId": "a8d8bbed-87a6-492e-b14f-5a135c35f3ed"
   },
   "outputs": [
    {
     "data": {
      "text/plain": [
       "(0.17142857142857143, 0.17142857142857143)"
      ]
     },
     "execution_count": 12,
     "metadata": {},
     "output_type": "execute_result"
    }
   ],
   "source": [
    "jaccard(a, b), jaccard(set(a_sig), set(b_sig))"
   ]
  },
  {
   "cell_type": "code",
   "execution_count": 13,
   "metadata": {
    "colab": {
     "base_uri": "https://localhost:8080/"
    },
    "executionInfo": {
     "elapsed": 18,
     "status": "ok",
     "timestamp": 1665546876558,
     "user": {
      "displayName": "Sridhar Iyer",
      "userId": "07017189305564796718"
     },
     "user_tz": 240
    },
    "id": "lCUbd5P4O3yU",
    "outputId": "91620934-050e-4b69-db70-6daa35b700fe"
   },
   "outputs": [
    {
     "data": {
      "text/plain": [
       "(0.0, 0.0)"
      ]
     },
     "execution_count": 13,
     "metadata": {},
     "output_type": "execute_result"
    }
   ],
   "source": [
    "jaccard(b, c), jaccard(set(b_sig), set(c_sig))"
   ]
  },
  {
   "cell_type": "code",
   "execution_count": 14,
   "metadata": {
    "colab": {
     "base_uri": "https://localhost:8080/"
    },
    "executionInfo": {
     "elapsed": 16,
     "status": "ok",
     "timestamp": 1665546876560,
     "user": {
      "displayName": "Sridhar Iyer",
      "userId": "07017189305564796718"
     },
     "user_tz": 240
    },
    "id": "8Rpl63xFsnX6",
    "outputId": "92bac09f-dcbf-4d8d-b736-b28d46819d3e"
   },
   "outputs": [
    {
     "data": {
      "text/plain": [
       "(0.0, 0.0)"
      ]
     },
     "execution_count": 14,
     "metadata": {},
     "output_type": "execute_result"
    }
   ],
   "source": [
    "jaccard(a, c), jaccard(set(a_sig), set(c_sig))"
   ]
  },
  {
   "cell_type": "markdown",
   "metadata": {
    "id": "3LjVJICHsnX7"
   },
   "source": [
    "# CODE BLOCK #4: Locality Sensitive Hashing\n",
    "\n",
    "The signature vector is broken into multiple *bands*, creating several sub-vectors. Each band shall contain an equal number of rows `r` - and so our signature length must be divisible by `b`."
   ]
  },
  {
   "cell_type": "code",
   "execution_count": 15,
   "metadata": {
    "executionInfo": {
     "elapsed": 142,
     "status": "ok",
     "timestamp": 1665546876690,
     "user": {
      "displayName": "Sridhar Iyer",
      "userId": "07017189305564796718"
     },
     "user_tz": 240
    },
    "id": "cIdQpKFwsnX8"
   },
   "outputs": [],
   "source": [
    "def split_vector(signature, b):\n",
    "    assert len(signature) % b == 0\n",
    "    r = int(len(signature) / b)\n",
    "    # code splitting signature in b parts\n",
    "    subvecs = []\n",
    "    for i in range(0, len(signature), r):\n",
    "        subvecs.append(signature[i : i+r])\n",
    "    return subvecs"
   ]
  },
  {
   "cell_type": "markdown",
   "metadata": {
    "id": "Cy0B1fhJsnX8"
   },
   "source": [
    "We'll start by splitting into 100 bands, creating rows of `2`"
   ]
  },
  {
   "cell_type": "code",
   "execution_count": 16,
   "metadata": {
    "executionInfo": {
     "elapsed": 7,
     "status": "ok",
     "timestamp": 1665546876691,
     "user": {
      "displayName": "Sridhar Iyer",
      "userId": "07017189305564796718"
     },
     "user_tz": 240
    },
    "id": "5-LeXZ_Xf43T"
   },
   "outputs": [],
   "source": [
    "band_a = split_vector(a_sig, 100)\n",
    "band_b = split_vector(b_sig, 100)\n",
    "band_c = split_vector(c_sig, 100)"
   ]
  },
  {
   "cell_type": "markdown",
   "metadata": {
    "id": "2x5UMmhnsnX9"
   },
   "source": [
    "Check if they match"
   ]
  },
  {
   "cell_type": "code",
   "execution_count": 17,
   "metadata": {
    "executionInfo": {
     "elapsed": 7,
     "status": "ok",
     "timestamp": 1665546876691,
     "user": {
      "displayName": "Sridhar Iyer",
      "userId": "07017189305564796718"
     },
     "user_tz": 240
    },
    "id": "jw-1xf_HsnX9"
   },
   "outputs": [],
   "source": [
    "for b_rows, c_rows in zip(band_b, band_c):\n",
    "    if b_rows == c_rows:\n",
    "        print(f\"Candidate pair: {b_rows} == {c_rows}\")"
   ]
  },
  {
   "cell_type": "code",
   "execution_count": 18,
   "metadata": {
    "colab": {
     "base_uri": "https://localhost:8080/"
    },
    "executionInfo": {
     "elapsed": 7,
     "status": "ok",
     "timestamp": 1665546876692,
     "user": {
      "displayName": "Sridhar Iyer",
      "userId": "07017189305564796718"
     },
     "user_tz": 240
    },
    "id": "879lFwxXsnYA",
    "outputId": "d90be504-5965-425f-e350-52ef8d17bb51"
   },
   "outputs": [
    {
     "name": "stdout",
     "output_type": "stream",
     "text": [
      "Candidate pair: [49, 16] == [49, 16]\n",
      "Candidate pair: [12, 37] == [12, 37]\n",
      "Candidate pair: [37, 37] == [37, 37]\n",
      "Candidate pair: [49, 16] == [49, 16]\n",
      "Candidate pair: [26, 16] == [26, 16]\n"
     ]
    }
   ],
   "source": [
    "for a_rows, b_rows in zip(band_a, band_b):\n",
    "    if a_rows == b_rows:\n",
    "        print(f\"Candidate pair: {a_rows} == {b_rows}\")"
   ]
  },
  {
   "cell_type": "code",
   "execution_count": 19,
   "metadata": {
    "executionInfo": {
     "elapsed": 7,
     "status": "ok",
     "timestamp": 1665546876693,
     "user": {
      "displayName": "Sridhar Iyer",
      "userId": "07017189305564796718"
     },
     "user_tz": 240
    },
    "id": "czs7G32tsnYB"
   },
   "outputs": [],
   "source": [
    "for a_rows, c_rows in zip(band_a, band_c):\n",
    "    if a_rows == c_rows:\n",
    "        print(f\"Candidate pair: {a_rows} == {c_rows}\")"
   ]
  },
  {
   "cell_type": "markdown",
   "metadata": {
    "id": "wbHgGZHqsnYB"
   },
   "source": [
    "# We identify that sentences **a** and **b** have candidate pairs, and identify **c** as a non-candidate.\n"
   ]
  },
  {
   "cell_type": "markdown",
   "metadata": {
    "id": "Gd8YhVmQsnYB"
   },
   "source": [
    "# CODE BLOCK#5: Tuning LSH\n",
    "\n",
    "We can visualize the probability of returning a candidate pair vs the similarity of the pair for different values of `r` and `b` (rows and bands respectively) like so:"
   ]
  },
  {
   "cell_type": "code",
   "execution_count": 20,
   "metadata": {
    "executionInfo": {
     "elapsed": 8,
     "status": "ok",
     "timestamp": 1665546876695,
     "user": {
      "displayName": "Sridhar Iyer",
      "userId": "07017189305564796718"
     },
     "user_tz": 240
    },
    "id": "pgC18pj1snYB"
   },
   "outputs": [],
   "source": [
    "def probability(s, r, b):\n",
    "    # s: similarity\n",
    "    # r: rows (per band)\n",
    "    # b: number of bands\n",
    "    return 1 - (1 - s**r)**b"
   ]
  },
  {
   "cell_type": "code",
   "execution_count": 21,
   "metadata": {
    "executionInfo": {
     "elapsed": 202,
     "status": "ok",
     "timestamp": 1665546876889,
     "user": {
      "displayName": "Sridhar Iyer",
      "userId": "07017189305564796718"
     },
     "user_tz": 240
    },
    "id": "O_SN9-IksnYC"
   },
   "outputs": [],
   "source": [
    "results = pd.DataFrame({\n",
    "    's': [],\n",
    "    'P': [],\n",
    "    'r,b': []\n",
    "})\n",
    "\n",
    "#for s in np.arange(0.01, 1, 0.01):\n",
    "for s in np.arange(0.1, 1, 0.1):\n",
    "    total = 200\n",
    "    for b in [100, 50, 40, 20, 10, 5]:\n",
    "        r = int(total/b)\n",
    "        P = probability(s, r, b)\n",
    "        results = results.append({\n",
    "            's': s,\n",
    "            'P': P,\n",
    "            'r,b': f\"{r},{b}\"\n",
    "        }, ignore_index=True)\n",
    "#print(results)"
   ]
  },
  {
   "cell_type": "code",
   "execution_count": 22,
   "metadata": {
    "colab": {
     "base_uri": "https://localhost:8080/",
     "height": 295
    },
    "executionInfo": {
     "elapsed": 482,
     "status": "ok",
     "timestamp": 1665546877369,
     "user": {
      "displayName": "Sridhar Iyer",
      "userId": "07017189305564796718"
     },
     "user_tz": 240
    },
    "id": "BlNgcH1u9gNL",
    "outputId": "982799a3-4bba-4cbb-e48d-4aa1544f1cba"
   },
   "outputs": [
    {
     "data": {
      "image/png": "[encoded data removed]",
      "text/plain": [
       "<Figure size 432x288 with 1 Axes>"
      ]
     },
     "metadata": {
      "needs_background": "light"
     },
     "output_type": "display_data"
    }
   ],
   "source": [
    "import matplotlib.pyplot as plt\n",
    "ops = [(2, 100), (4, 50), (5, 40), (10, 20), (20 ,10), (40, 5), (100, 2)]\n",
    "yval = lambda p,r,b: 1-(1-p**r)**b\n",
    "pts = np.linspace(0,1,100)\n",
    "yval(pts,.2,.2)\n",
    "for op in ops:\n",
    "    plt.plot(pts, yval(pts,op[0],op[1]), label=op)\n",
    "plt.plot(pts,0*pts+0.5,'k--', label=\"P=1/2\")\n",
    "plt.plot([0.4,0.4],[0,1], 'k-.')\n",
    "plt.legend('left')\n",
    "plt.xlabel('t')\n",
    "plt.ylabel('Probability')\n",
    "plt.title(\"legend: (r,b). p_true=0.4 (vertical line)\")\n",
    "plt.show()"
   ]
  }
 ],
 "metadata": {
  "colab": {
   "collapsed_sections": [],
   "provenance": [
    {
     "file_id": "1XIX9D8hf68J6rYWmc89K-V-2EKajPAhE",
     "timestamp": 1665284126968
    },
    {
     "file_id": "1XEFNH10-GZQZw8y6dCFMnFby-E7_R9Z9",
     "timestamp": 1664022419711
    },
    {
     "file_id": "https://github.com/pinecone-io/examples/blob/master/locality_sensitive_hashing_traditional/sparse_implementation.ipynb",
     "timestamp": 1663506226167
    }
   ]
  },
  "interpreter": {
   "hash": "a683edd788238e5c64f9fa2e4bdd4387776bc5c6f4f0a84da0685f9a25e421d6"
  },
  "kernelspec": {
   "display_name": "Python 3",
   "language": "python",
   "name": "python3"
  },
  "language_info": {
   "codemirror_mode": {
    "name": "ipython",
    "version": 3
   },
   "file_extension": ".py",
   "mimetype": "text/x-python",
   "name": "python",
   "nbconvert_exporter": "python",
   "pygments_lexer": "ipython3",
   "version": "3.8.5"
  }
 },
 "nbformat": 4,
 "nbformat_minor": 4
}
