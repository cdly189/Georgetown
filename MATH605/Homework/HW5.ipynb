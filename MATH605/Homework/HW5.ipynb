{
 "cells": [
  {
   "cell_type": "code",
   "execution_count": null,
   "metadata": {},
   "outputs": [],
   "source": [
    "def generate_GBM_path(S0,t0,tN,N,miu,sigma):\n",
    "    \"\"\"\n",
    "    S0: the initial value\n",
    "    t0, tN : the left and right endpoints of the time interval \n",
    "    N : the number of subintervals \n",
    "    miu: the drift term\n",
    "    sigma: volatility\n",
    "    \n",
    "    \"\"\"\n",
    "    dt = (tN - t0) / N\n",
    "    "
   ]
  }
 ],
 "metadata": {
  "kernelspec": {
   "display_name": "Python 3",
   "language": "python",
   "name": "python3"
  },
  "language_info": {
   "codemirror_mode": {
    "name": "ipython",
    "version": 3
   },
   "file_extension": ".py",
   "mimetype": "text/x-python",
   "name": "python",
   "nbconvert_exporter": "python",
   "pygments_lexer": "ipython3",
   "version": "3.8.5"
  }
 },
 "nbformat": 4,
 "nbformat_minor": 4
}
