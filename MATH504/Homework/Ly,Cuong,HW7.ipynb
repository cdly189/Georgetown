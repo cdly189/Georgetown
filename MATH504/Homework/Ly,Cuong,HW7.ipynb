{
 "cells": [
  {
   "cell_type": "code",
   "execution_count": 17,
   "metadata": {},
   "outputs": [
    {
     "name": "stdout",
     "output_type": "stream",
     "text": [
      "The root was found to be at 1.6806282722513088 after 1 iterations\n",
      "The root was found to be at 1.4307389882390624 after 2 iterations\n",
      "The root was found to be at 1.2549709561094364 after 3 iterations\n",
      "The root was found to be at 1.1615384327733131 after 4 iterations\n",
      "The root was found to be at 1.1363532741705054 after 5 iterations\n",
      "The root was found to be at 1.134730528343629 after 6 iterations\n",
      "The root was found to be at 1.1347241385002211 after 7 iterations\n"
     ]
    }
   ],
   "source": [
    "def newtonMethod(func, funcderiv, x, n):\n",
    "    \"\"\" Find the solution of a nonlinear equation using the Newton Method\n",
    "    Parameters\n",
    "    ---------\n",
    "    x0 : the initial guess\n",
    "    fX : function\n",
    "    dfX : the derivative of function fX\n",
    "    n : the number of iterations\n",
    "    Returns\n",
    "    -------\n",
    "    xn : number\n",
    "        Implement Newton's method: compute the linear approximation\n",
    "        of f(x) at xn and find x intercept by the formula\n",
    "            x = xn - f(xn)/Df(xn)\n",
    "    \"\"\"\n",
    "    def f(x):\n",
    "        f = eval(func)\n",
    "        return f\n",
    "    def df(x):\n",
    "        df = eval(funcderiv)\n",
    "        return df\n",
    "    for num in range(1, n+1):\n",
    "        i = x - (f(x)/df(x))\n",
    "        x = i\n",
    "        print(f'The root was found to be at {x} after {num} iterations')\n",
    "newtonMethod('x**6 - x - 1','6*x**5 - 1',2,7)"
   ]
  },
  {
   "cell_type": "code",
   "execution_count": 20,
   "metadata": {},
   "outputs": [],
   "source": [
    "def secantMethod(func,x0,x1,n):\n",
    "    def f(x):\n",
    "        f = eval(func)\n",
    "        return f\n",
    "    \n",
    "    for num in range(1,n+1):\n",
    "        fx0 = f(x0)\n",
    "        fx1 = f(x1)\n",
    "        \n",
    "        xi = x0 - (fx0 / ((fx0 - fx1) / (x0 - x1)))\n",
    "        \n",
    "        x0 = x1\n",
    "        x1 = xi\n",
    "        print(f'The root was found to be at {xi} after {num} iterations')           "
   ]
  },
  {
   "cell_type": "code",
   "execution_count": 23,
   "metadata": {},
   "outputs": [
    {
     "name": "stdout",
     "output_type": "stream",
     "text": [
      "The root was found to be at 1.0161290322580645 after 1 iterations\n",
      "The root was found to be at 1.1905777686766374 after 2 iterations\n",
      "The root was found to be at 1.1176558309415516 after 3 iterations\n",
      "The root was found to be at 1.132531550216133 after 4 iterations\n",
      "The root was found to be at 1.1348168080048529 after 5 iterations\n",
      "The root was found to be at 1.134723645948705 after 6 iterations\n",
      "The root was found to be at 1.1347241382912159 after 7 iterations\n"
     ]
    }
   ],
   "source": [
    "secantMethod('x**6 - x - 1',2,1,7)"
   ]
  },
  {
   "cell_type": "code",
   "execution_count": 27,
   "metadata": {},
   "outputs": [],
   "source": [
    "import numpy as np"
   ]
  },
  {
   "cell_type": "code",
   "execution_count": 31,
   "metadata": {},
   "outputs": [
    {
     "name": "stdout",
     "output_type": "stream",
     "text": [
      "The root was found to be at 0.98989898989899 after 1 iterations\n",
      "The root was found to be at 0.9797989999989798 after 2 iterations\n",
      "The root was found to be at 0.9697000097980198 after 3 iterations\n",
      "The root was found to be at 0.9596019994079774 after 4 iterations\n",
      "The root was found to be at 0.949504949530219 after 5 iterations\n",
      "The root was found to be at 0.9394088414324873 after 6 iterations\n",
      "The root was found to be at 0.9293136569269025 after 7 iterations\n",
      "The root was found to be at 0.919219378349024 after 8 iterations\n",
      "The root was found to be at 0.9091259885379105 after 9 iterations\n",
      "The root was found to be at 0.899033470817122 after 10 iterations\n",
      "The root was found to be at 0.8889418089766118 after 11 iterations\n",
      "The root was found to be at 0.8788509872554573 after 12 iterations\n",
      "The root was found to be at 0.8687609903253849 after 13 iterations\n",
      "The root was found to be at 0.858671803275044 after 14 iterations\n",
      "The root was found to be at 0.8485834115949908 after 15 iterations\n",
      "The root was found to be at 0.8384958011633431 after 16 iterations\n",
      "The root was found to be at 0.8284089582320703 after 17 iterations\n",
      "The root was found to be at 0.8183228694138853 after 18 iterations\n",
      "The root was found to be at 0.8082375216697077 after 19 iterations\n",
      "The root was found to be at 0.7981529022966665 after 20 iterations\n"
     ]
    }
   ],
   "source": [
    "def newtonMethod(func, funcderiv, x, n):\n",
    "    \"\"\" Find the solution of a nonlinear equation using the Newton Method\n",
    "    Parameters\n",
    "    ---------\n",
    "    x0 : the initial guess\n",
    "    fX : function\n",
    "    dfX : the derivative of function fX\n",
    "    n : the number of iterations\n",
    "    Returns\n",
    "    -------\n",
    "    xn : number\n",
    "        Implement Newton's method: compute the linear approximation\n",
    "        of f(x) at xn and find x intercept by the formula\n",
    "            x = xn - f(xn)/Df(xn)\n",
    "    \"\"\"\n",
    "    def f(x):\n",
    "        f = eval(func)\n",
    "        return f\n",
    "    def df(x):\n",
    "        df = eval(funcderiv)\n",
    "        return df\n",
    "    for num in range(1, n+1):\n",
    "        i = x - (f(x)/df(x))\n",
    "        x = i\n",
    "        print(f'The root was found to be at {x} after {num} iterations')\n",
    "newtonMethod('np.exp(100*x)*(x-2)','np.exp(100*x)*(100*x - 199)',1,20)"
   ]
  },
  {
   "cell_type": "code",
   "execution_count": null,
   "metadata": {},
   "outputs": [],
   "source": []
  }
 ],
 "metadata": {
  "kernelspec": {
   "display_name": "Python 3",
   "language": "python",
   "name": "python3"
  },
  "language_info": {
   "codemirror_mode": {
    "name": "ipython",
    "version": 3
   },
   "file_extension": ".py",
   "mimetype": "text/x-python",
   "name": "python",
   "nbconvert_exporter": "python",
   "pygments_lexer": "ipython3",
   "version": "3.8.5"
  }
 },
 "nbformat": 4,
 "nbformat_minor": 4
}
