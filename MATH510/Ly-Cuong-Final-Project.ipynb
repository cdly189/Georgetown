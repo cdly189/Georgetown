{
 "cells": [
  {
   "cell_type": "code",
   "execution_count": 1,
   "metadata": {},
   "outputs": [],
   "source": [
    "import numpy as np\n",
    "import pandas as pd\n",
    "import pandas_datareader.data as web\n",
    "import datetime\n",
    "import yfinance as yf\n",
    "import matplotlib.pyplot as plt\n",
    "from yahoofinancials import YahooFinancials\n",
    "import statsmodels.api as sm"
   ]
  },
  {
   "cell_type": "code",
   "execution_count": null,
   "metadata": {},
   "outputs": [],
   "source": []
  },
  {
   "cell_type": "code",
   "execution_count": 2,
   "metadata": {},
   "outputs": [],
   "source": [
    "# Setting to display full data\n",
    "pd.set_option('display.max_columns', None)  \n",
    "pd.set_option('display.max_rows', None)  \n",
    "pd.set_option('display.max_colwidth', None)  "
   ]
  },
  {
   "cell_type": "code",
   "execution_count": 3,
   "metadata": {},
   "outputs": [],
   "source": [
    "# Set the start and end date for the entire project\n",
    "START_DATE = '2010-01-01' \n",
    "END_DATE = '2020-01-01'"
   ]
  },
  {
   "cell_type": "code",
   "execution_count": 4,
   "metadata": {},
   "outputs": [
    {
     "name": "stdout",
     "output_type": "stream",
     "text": [
      "[*********************100%***********************]  1 of 1 completed\n"
     ]
    },
    {
     "data": {
      "text/html": [
       "<div>\n",
       "<style scoped>\n",
       "    .dataframe tbody tr th:only-of-type {\n",
       "        vertical-align: middle;\n",
       "    }\n",
       "\n",
       "    .dataframe tbody tr th {\n",
       "        vertical-align: top;\n",
       "    }\n",
       "\n",
       "    .dataframe thead th {\n",
       "        text-align: right;\n",
       "    }\n",
       "</style>\n",
       "<table border=\"1\" class=\"dataframe\">\n",
       "  <thead>\n",
       "    <tr style=\"text-align: right;\">\n",
       "      <th></th>\n",
       "      <th>Open</th>\n",
       "      <th>High</th>\n",
       "      <th>Low</th>\n",
       "      <th>Close</th>\n",
       "      <th>Adj Close</th>\n",
       "      <th>Volume</th>\n",
       "    </tr>\n",
       "    <tr>\n",
       "      <th>Date</th>\n",
       "      <th></th>\n",
       "      <th></th>\n",
       "      <th></th>\n",
       "      <th></th>\n",
       "      <th></th>\n",
       "      <th></th>\n",
       "    </tr>\n",
       "  </thead>\n",
       "  <tbody>\n",
       "    <tr>\n",
       "      <th>2010-01-04</th>\n",
       "      <td>1116.560059</td>\n",
       "      <td>1133.869995</td>\n",
       "      <td>1116.560059</td>\n",
       "      <td>1132.989990</td>\n",
       "      <td>1132.989990</td>\n",
       "      <td>3991400000</td>\n",
       "    </tr>\n",
       "    <tr>\n",
       "      <th>2010-01-05</th>\n",
       "      <td>1132.660034</td>\n",
       "      <td>1136.630005</td>\n",
       "      <td>1129.660034</td>\n",
       "      <td>1136.520020</td>\n",
       "      <td>1136.520020</td>\n",
       "      <td>2491020000</td>\n",
       "    </tr>\n",
       "    <tr>\n",
       "      <th>2010-01-06</th>\n",
       "      <td>1135.709961</td>\n",
       "      <td>1139.189941</td>\n",
       "      <td>1133.949951</td>\n",
       "      <td>1137.140015</td>\n",
       "      <td>1137.140015</td>\n",
       "      <td>4972660000</td>\n",
       "    </tr>\n",
       "    <tr>\n",
       "      <th>2010-01-07</th>\n",
       "      <td>1136.270020</td>\n",
       "      <td>1142.459961</td>\n",
       "      <td>1131.319946</td>\n",
       "      <td>1141.689941</td>\n",
       "      <td>1141.689941</td>\n",
       "      <td>5270680000</td>\n",
       "    </tr>\n",
       "    <tr>\n",
       "      <th>2010-01-08</th>\n",
       "      <td>1140.520020</td>\n",
       "      <td>1145.390015</td>\n",
       "      <td>1136.219971</td>\n",
       "      <td>1144.979980</td>\n",
       "      <td>1144.979980</td>\n",
       "      <td>4389590000</td>\n",
       "    </tr>\n",
       "  </tbody>\n",
       "</table>\n",
       "</div>"
      ],
      "text/plain": [
       "                   Open         High          Low        Close    Adj Close  \\\n",
       "Date                                                                          \n",
       "2010-01-04  1116.560059  1133.869995  1116.560059  1132.989990  1132.989990   \n",
       "2010-01-05  1132.660034  1136.630005  1129.660034  1136.520020  1136.520020   \n",
       "2010-01-06  1135.709961  1139.189941  1133.949951  1137.140015  1137.140015   \n",
       "2010-01-07  1136.270020  1142.459961  1131.319946  1141.689941  1141.689941   \n",
       "2010-01-08  1140.520020  1145.390015  1136.219971  1144.979980  1144.979980   \n",
       "\n",
       "                Volume  \n",
       "Date                    \n",
       "2010-01-04  3991400000  \n",
       "2010-01-05  2491020000  \n",
       "2010-01-06  4972660000  \n",
       "2010-01-07  5270680000  \n",
       "2010-01-08  4389590000  "
      ]
     },
     "execution_count": 4,
     "metadata": {},
     "output_type": "execute_result"
    }
   ],
   "source": [
    "# Download S&P500 data using yfinance,\n",
    "sp500 = yf.download('^GSPC', start=START_DATE,end=END_DATE)\n",
    "sp500.head()"
   ]
  },
  {
   "cell_type": "code",
   "execution_count": 5,
   "metadata": {},
   "outputs": [
    {
     "data": {
      "text/plain": [
       "Date\n",
       "2010-01-04    1132.989990\n",
       "2010-01-05    1136.520020\n",
       "2010-01-06    1137.140015\n",
       "2010-01-07    1141.689941\n",
       "2010-01-08    1144.979980\n",
       "Name: Adj Close, dtype: float64"
      ]
     },
     "execution_count": 5,
     "metadata": {},
     "output_type": "execute_result"
    }
   ],
   "source": [
    "# Extract Adj Close column\n",
    "sp500= sp500['Adj Close']\n",
    "sp500.head()"
   ]
  },
  {
   "cell_type": "code",
   "execution_count": 6,
   "metadata": {},
   "outputs": [
    {
     "data": {
      "image/png": "[encoded data removed]",
      "text/plain": [
       "<Figure size 432x288 with 1 Axes>"
      ]
     },
     "metadata": {
      "needs_background": "light"
     },
     "output_type": "display_data"
    }
   ],
   "source": [
    "sp500.plot(title='S&P 500')\n",
    "plt.ylabel('Unit Point')\n",
    "plt.show()"
   ]
  },
  {
   "cell_type": "code",
   "execution_count": 7,
   "metadata": {},
   "outputs": [
    {
     "data": {
      "text/plain": [
       "Date\n",
       "2010-02-28    0.028514\n",
       "2010-03-31    0.058796\n",
       "2010-04-30    0.014759\n",
       "2010-05-31   -0.081976\n",
       "2010-06-30   -0.053882\n",
       "Freq: M, Name: Adj Close, dtype: float64"
      ]
     },
     "execution_count": 7,
     "metadata": {},
     "output_type": "execute_result"
    }
   ],
   "source": [
    "# Previously, the data was daily. We make it monthly and calculate the monthly return using pct_change()\n",
    "sp500= sp500.resample('M').last().pct_change().dropna()\n",
    "sp500.head()"
   ]
  },
  {
   "cell_type": "code",
   "execution_count": 8,
   "metadata": {},
   "outputs": [
    {
     "data": {
      "image/png": "[encoded data removed]",
      "text/plain": [
       "<Figure size 432x288 with 1 Axes>"
      ]
     },
     "metadata": {
      "needs_background": "light"
     },
     "output_type": "display_data"
    }
   ],
   "source": [
    "sp500.plot(title='S&P 500 monthly returns')\n",
    "plt.ylabel('Percentage')\n",
    "plt.show()\n",
    "# 0.1 equivalent to 10%"
   ]
  },
  {
   "cell_type": "code",
   "execution_count": 9,
   "metadata": {},
   "outputs": [
    {
     "data": {
      "text/plain": [
       "0.0358604729711153"
      ]
     },
     "execution_count": 9,
     "metadata": {},
     "output_type": "execute_result"
    }
   ],
   "source": [
    "# Calculate S&P risk using standard deviation\n",
    "sp500.std()"
   ]
  },
  {
   "cell_type": "code",
   "execution_count": 10,
   "metadata": {},
   "outputs": [
    {
     "data": {
      "text/plain": [
       "0.009937002501489472"
      ]
     },
     "execution_count": 10,
     "metadata": {},
     "output_type": "execute_result"
    }
   ],
   "source": [
    "sp500.mean()"
   ]
  },
  {
   "cell_type": "markdown",
   "metadata": {},
   "source": [
    "### Portfolio consists of four stocks: Walmart (WMT), Netflix (NFLX), Goldman Sachs (GS) and Novartis (NVS)"
   ]
  },
  {
   "cell_type": "code",
   "execution_count": 11,
   "metadata": {},
   "outputs": [],
   "source": [
    "stocks = ['WMT', 'NFLX', 'GS','NVS']\n",
    "# Import stock data from Yahoo Finance\n",
    "yahoo_financials = YahooFinancials(stocks)\n",
    "data = yahoo_financials.get_historical_price_data(start_date='2010-01-01', end_date='2020-01-01', time_interval='monthly')\n",
    "adj_close = pd.DataFrame({a: {x['formatted_date']: x['adjclose'] for x in data[a]['prices']} for a in stocks})"
   ]
  },
  {
   "cell_type": "code",
   "execution_count": 12,
   "metadata": {},
   "outputs": [
    {
     "data": {
      "text/html": [
       "<div>\n",
       "<style scoped>\n",
       "    .dataframe tbody tr th:only-of-type {\n",
       "        vertical-align: middle;\n",
       "    }\n",
       "\n",
       "    .dataframe tbody tr th {\n",
       "        vertical-align: top;\n",
       "    }\n",
       "\n",
       "    .dataframe thead th {\n",
       "        text-align: right;\n",
       "    }\n",
       "</style>\n",
       "<table border=\"1\" class=\"dataframe\">\n",
       "  <thead>\n",
       "    <tr style=\"text-align: right;\">\n",
       "      <th></th>\n",
       "      <th>WMT</th>\n",
       "      <th>NFLX</th>\n",
       "      <th>GS</th>\n",
       "      <th>NVS</th>\n",
       "    </tr>\n",
       "  </thead>\n",
       "  <tbody>\n",
       "    <tr>\n",
       "      <th>2010-01-01</th>\n",
       "      <td>40.359360</td>\n",
       "      <td>8.892857</td>\n",
       "      <td>124.231819</td>\n",
       "      <td>30.977274</td>\n",
       "    </tr>\n",
       "    <tr>\n",
       "      <th>2010-02-01</th>\n",
       "      <td>40.842773</td>\n",
       "      <td>9.435714</td>\n",
       "      <td>130.605530</td>\n",
       "      <td>32.013130</td>\n",
       "    </tr>\n",
       "    <tr>\n",
       "      <th>2010-03-01</th>\n",
       "      <td>41.998482</td>\n",
       "      <td>10.534286</td>\n",
       "      <td>142.853760</td>\n",
       "      <td>31.307131</td>\n",
       "    </tr>\n",
       "    <tr>\n",
       "      <th>2010-04-01</th>\n",
       "      <td>40.746346</td>\n",
       "      <td>14.128571</td>\n",
       "      <td>121.563438</td>\n",
       "      <td>30.518614</td>\n",
       "    </tr>\n",
       "    <tr>\n",
       "      <th>2010-05-01</th>\n",
       "      <td>38.406700</td>\n",
       "      <td>15.878571</td>\n",
       "      <td>120.776428</td>\n",
       "      <td>27.013620</td>\n",
       "    </tr>\n",
       "  </tbody>\n",
       "</table>\n",
       "</div>"
      ],
      "text/plain": [
       "                  WMT       NFLX          GS        NVS\n",
       "2010-01-01  40.359360   8.892857  124.231819  30.977274\n",
       "2010-02-01  40.842773   9.435714  130.605530  32.013130\n",
       "2010-03-01  41.998482  10.534286  142.853760  31.307131\n",
       "2010-04-01  40.746346  14.128571  121.563438  30.518614\n",
       "2010-05-01  38.406700  15.878571  120.776428  27.013620"
      ]
     },
     "execution_count": 12,
     "metadata": {},
     "output_type": "execute_result"
    }
   ],
   "source": [
    "adj_close.head()"
   ]
  },
  {
   "cell_type": "code",
   "execution_count": 13,
   "metadata": {},
   "outputs": [
    {
     "data": {
      "image/png": "[encoded data removed]",
      "text/plain": [
       "<Figure size 432x288 with 1 Axes>"
      ]
     },
     "metadata": {
      "needs_background": "light"
     },
     "output_type": "display_data"
    }
   ],
   "source": [
    "adj_close.plot()\n",
    "plt.show()"
   ]
  },
  {
   "cell_type": "code",
   "execution_count": 14,
   "metadata": {},
   "outputs": [
    {
     "data": {
      "text/html": [
       "<div>\n",
       "<style scoped>\n",
       "    .dataframe tbody tr th:only-of-type {\n",
       "        vertical-align: middle;\n",
       "    }\n",
       "\n",
       "    .dataframe tbody tr th {\n",
       "        vertical-align: top;\n",
       "    }\n",
       "\n",
       "    .dataframe thead th {\n",
       "        text-align: right;\n",
       "    }\n",
       "</style>\n",
       "<table border=\"1\" class=\"dataframe\">\n",
       "  <thead>\n",
       "    <tr style=\"text-align: right;\">\n",
       "      <th></th>\n",
       "      <th>WMT</th>\n",
       "      <th>NFLX</th>\n",
       "      <th>GS</th>\n",
       "      <th>NVS</th>\n",
       "    </tr>\n",
       "  </thead>\n",
       "  <tbody>\n",
       "    <tr>\n",
       "      <th>2010-02-01</th>\n",
       "      <td>0.011978</td>\n",
       "      <td>0.061044</td>\n",
       "      <td>0.051305</td>\n",
       "      <td>0.033439</td>\n",
       "    </tr>\n",
       "    <tr>\n",
       "      <th>2010-03-01</th>\n",
       "      <td>0.028297</td>\n",
       "      <td>0.116427</td>\n",
       "      <td>0.093780</td>\n",
       "      <td>-0.022053</td>\n",
       "    </tr>\n",
       "    <tr>\n",
       "      <th>2010-04-01</th>\n",
       "      <td>-0.029814</td>\n",
       "      <td>0.341199</td>\n",
       "      <td>-0.149036</td>\n",
       "      <td>-0.025186</td>\n",
       "    </tr>\n",
       "    <tr>\n",
       "      <th>2010-05-01</th>\n",
       "      <td>-0.057420</td>\n",
       "      <td>0.123862</td>\n",
       "      <td>-0.006474</td>\n",
       "      <td>-0.114848</td>\n",
       "    </tr>\n",
       "    <tr>\n",
       "      <th>2010-06-01</th>\n",
       "      <td>-0.043725</td>\n",
       "      <td>-0.022492</td>\n",
       "      <td>-0.087770</td>\n",
       "      <td>0.073539</td>\n",
       "    </tr>\n",
       "  </tbody>\n",
       "</table>\n",
       "</div>"
      ],
      "text/plain": [
       "                 WMT      NFLX        GS       NVS\n",
       "2010-02-01  0.011978  0.061044  0.051305  0.033439\n",
       "2010-03-01  0.028297  0.116427  0.093780 -0.022053\n",
       "2010-04-01 -0.029814  0.341199 -0.149036 -0.025186\n",
       "2010-05-01 -0.057420  0.123862 -0.006474 -0.114848\n",
       "2010-06-01 -0.043725 -0.022492 -0.087770  0.073539"
      ]
     },
     "execution_count": 14,
     "metadata": {},
     "output_type": "execute_result"
    }
   ],
   "source": [
    "# Calculate monthly return\n",
    "monthly_return=adj_close.pct_change().dropna()\n",
    "monthly_return.head()"
   ]
  },
  {
   "cell_type": "code",
   "execution_count": 15,
   "metadata": {},
   "outputs": [
    {
     "data": {
      "text/plain": [
       "WMT     0.009956\n",
       "NFLX    0.044474\n",
       "GS      0.007860\n",
       "NVS     0.009926\n",
       "dtype: float64"
      ]
     },
     "execution_count": 15,
     "metadata": {},
     "output_type": "execute_result"
    }
   ],
   "source": [
    "# Calculate mean monthly return for each stock\n",
    "monthly_portfolio_mean = monthly_return.mean()\n",
    "monthly_portfolio_mean"
   ]
  },
  {
   "cell_type": "code",
   "execution_count": 16,
   "metadata": {},
   "outputs": [],
   "source": [
    "# Netflix seems to be the best performer"
   ]
  },
  {
   "cell_type": "markdown",
   "metadata": {},
   "source": [
    "### Calculate portfolio return"
   ]
  },
  {
   "cell_type": "code",
   "execution_count": 17,
   "metadata": {},
   "outputs": [
    {
     "data": {
      "text/plain": [
       "0.018053862040789324"
      ]
     },
     "execution_count": 17,
     "metadata": {},
     "output_type": "execute_result"
    }
   ],
   "source": [
    "# Compute portfolio return. The allocation for the portfolio is 25% each \n",
    "portfolio_allocation = np.array([0.25,0.25,0.25,0.25])\n",
    "\n",
    "allocated_monthly_returns = (portfolio_allocation * monthly_portfolio_mean)\n",
    "\n",
    "portfolio_return = np.sum(allocated_monthly_returns)\n",
    "portfolio_return"
   ]
  },
  {
   "cell_type": "code",
   "execution_count": 18,
   "metadata": {},
   "outputs": [
    {
     "name": "stdout",
     "output_type": "stream",
     "text": [
      "23.87205315755283\n"
     ]
    }
   ],
   "source": [
    "# Monthly portfolio return is 1.8% \n",
    "# Annualize monthly return by this formula: [((1 + R)^12) - 1] x 100\n",
    "# R in our case is 0.018. Using formula above, our yearly return is \n",
    "R = 0.018\n",
    "print(((1 + 0.018)**12 - 1) * 100 )\n",
    "# About 23.87% yearly"
   ]
  },
  {
   "cell_type": "markdown",
   "metadata": {},
   "source": [
    "### Calculate portfolio risk"
   ]
  },
  {
   "cell_type": "code",
   "execution_count": 19,
   "metadata": {},
   "outputs": [
    {
     "data": {
      "text/html": [
       "<div>\n",
       "<style scoped>\n",
       "    .dataframe tbody tr th:only-of-type {\n",
       "        vertical-align: middle;\n",
       "    }\n",
       "\n",
       "    .dataframe tbody tr th {\n",
       "        vertical-align: top;\n",
       "    }\n",
       "\n",
       "    .dataframe thead th {\n",
       "        text-align: right;\n",
       "    }\n",
       "</style>\n",
       "<table border=\"1\" class=\"dataframe\">\n",
       "  <thead>\n",
       "    <tr style=\"text-align: right;\">\n",
       "      <th></th>\n",
       "      <th>WMT</th>\n",
       "      <th>NFLX</th>\n",
       "      <th>GS</th>\n",
       "      <th>NVS</th>\n",
       "    </tr>\n",
       "  </thead>\n",
       "  <tbody>\n",
       "    <tr>\n",
       "      <th>WMT</th>\n",
       "      <td>0.027951</td>\n",
       "      <td>-0.005821</td>\n",
       "      <td>0.006048</td>\n",
       "      <td>0.007460</td>\n",
       "    </tr>\n",
       "    <tr>\n",
       "      <th>NFLX</th>\n",
       "      <td>-0.005821</td>\n",
       "      <td>0.359329</td>\n",
       "      <td>0.051869</td>\n",
       "      <td>0.010241</td>\n",
       "    </tr>\n",
       "    <tr>\n",
       "      <th>GS</th>\n",
       "      <td>0.006048</td>\n",
       "      <td>0.051869</td>\n",
       "      <td>0.073592</td>\n",
       "      <td>0.007394</td>\n",
       "    </tr>\n",
       "    <tr>\n",
       "      <th>NVS</th>\n",
       "      <td>0.007460</td>\n",
       "      <td>0.010241</td>\n",
       "      <td>0.007394</td>\n",
       "      <td>0.027303</td>\n",
       "    </tr>\n",
       "  </tbody>\n",
       "</table>\n",
       "</div>"
      ],
      "text/plain": [
       "           WMT      NFLX        GS       NVS\n",
       "WMT   0.027951 -0.005821  0.006048  0.007460\n",
       "NFLX -0.005821  0.359329  0.051869  0.010241\n",
       "GS    0.006048  0.051869  0.073592  0.007394\n",
       "NVS   0.007460  0.010241  0.007394  0.027303"
      ]
     },
     "execution_count": 19,
     "metadata": {},
     "output_type": "execute_result"
    }
   ],
   "source": [
    "# Calculate the monthly covariance and then we annualise it by multiplying for 12\n",
    "matrix_covariance_portfolio = monthly_return\n",
    "matrix_covariance_portfolio = (matrix_covariance_portfolio.cov())*12\n",
    "\n",
    "matrix_covariance_portfolio"
   ]
  },
  {
   "cell_type": "code",
   "execution_count": 20,
   "metadata": {},
   "outputs": [
    {
     "data": {
      "text/plain": [
       "0.20039906307483082"
      ]
     },
     "execution_count": 20,
     "metadata": {},
     "output_type": "execute_result"
    }
   ],
   "source": [
    "# Calculate the standard deviation which will indicate the risk of our portfolio\n",
    "# The formula for standard deviation of portfolio\n",
    "# Portfolio allocation array * Portfolio matrix covariance * Transpose of portfolio allocation array \n",
    "\n",
    "portfolio_variance = np.dot(portfolio_allocation.T,np.dot(matrix_covariance_portfolio, portfolio_allocation))\n",
    "\n",
    "portfolio_risk = np.sqrt(portfolio_variance)\n",
    "portfolio_risk"
   ]
  },
  {
   "cell_type": "code",
   "execution_count": 21,
   "metadata": {},
   "outputs": [],
   "source": [
    "# The risk of the portfolio is about 20%"
   ]
  },
  {
   "cell_type": "markdown",
   "metadata": {},
   "source": [
    "### Optimized portfolio"
   ]
  },
  {
   "cell_type": "code",
   "execution_count": 22,
   "metadata": {},
   "outputs": [],
   "source": [
    "# In the previous calculation, the portfolio allocation is 25% evenly. How do we know it is the best allocation?\n",
    "# To find an optimize portfolio allocation, one of the approach is using Sharpe Ratio\n",
    "# Holding risk constant, the higher Sharpe Ratio earns a better portfolio return \n",
    "# We will generate 1000 portfolio with different level of allocation, calculate portfolio risk, portfolio return and Sharpe Ratio\n",
    "# The best portfolio has highest return, lowest portfolio risk and highest Sharpe Ratio"
   ]
  },
  {
   "cell_type": "code",
   "execution_count": 23,
   "metadata": {},
   "outputs": [],
   "source": [
    "number_of_portfolios = 1000\n",
    "RF = 0\n",
    "\n",
    "# Define variables\n",
    "portfolio_returns = []\n",
    "portfolio_risk = []\n",
    "sharpe_ratio_port = []\n",
    "portfolio_weights = []\n",
    "\n",
    "for portfolio in range (number_of_portfolios):\n",
    "    weights = np.random.random_sample((len(stocks)))  # Generate 4 random weights correspond to 4 stocks\n",
    "    weights = weights / np.sum(weights)               # Make the weight having sum equal 1\n",
    "\n",
    "    annualize_return = np.sum((monthly_return.mean() * weights) * 12) \n",
    "    portfolio_returns.append(annualize_return)\n",
    "    \n",
    "  #variance\n",
    "    matrix_covariance_portfolio = (monthly_return.cov())*12\n",
    "    portfolio_variance = np.dot(weights.T,np.dot(matrix_covariance_portfolio, weights))\n",
    "    portfolio_standard_deviation= np.sqrt(portfolio_variance) \n",
    "    portfolio_risk.append(portfolio_standard_deviation)\n",
    "    \n",
    "  #sharpe_ratio\n",
    "    sharpe_ratio = ((annualize_return- RF)/portfolio_standard_deviation)\n",
    "    sharpe_ratio_port.append(sharpe_ratio)\n",
    "\n",
    "    portfolio_weights.append(weights)"
   ]
  },
  {
   "cell_type": "code",
   "execution_count": 24,
   "metadata": {},
   "outputs": [],
   "source": [
    "portfolio_risk = np.array(portfolio_risk)\n",
    "portfolio_returns = np.array(portfolio_returns)\n",
    "sharpe_ratio_port = np.array(sharpe_ratio_port)"
   ]
  },
  {
   "cell_type": "code",
   "execution_count": 25,
   "metadata": {},
   "outputs": [
    {
     "data": {
      "image/png": "[encoded data removed]",
      "text/plain": [
       "<Figure size 720x360 with 2 Axes>"
      ]
     },
     "metadata": {
      "needs_background": "light"
     },
     "output_type": "display_data"
    }
   ],
   "source": [
    "plt.figure(figsize=(10, 5))\n",
    "plt.scatter(portfolio_risk, portfolio_returns, c=portfolio_returns / portfolio_risk) \n",
    "plt.xlabel('volatility')\n",
    "plt.ylabel('returns')\n",
    "plt.colorbar(label='Sharpe ratio')\n",
    "plt.show()"
   ]
  },
  {
   "cell_type": "code",
   "execution_count": 26,
   "metadata": {},
   "outputs": [
    {
     "data": {
      "text/html": [
       "<div>\n",
       "<style scoped>\n",
       "    .dataframe tbody tr th:only-of-type {\n",
       "        vertical-align: middle;\n",
       "    }\n",
       "\n",
       "    .dataframe tbody tr th {\n",
       "        vertical-align: top;\n",
       "    }\n",
       "\n",
       "    .dataframe thead th {\n",
       "        text-align: right;\n",
       "    }\n",
       "</style>\n",
       "<table border=\"1\" class=\"dataframe\">\n",
       "  <thead>\n",
       "    <tr style=\"text-align: right;\">\n",
       "      <th></th>\n",
       "      <th>Port Returns</th>\n",
       "      <th>Port Risk</th>\n",
       "      <th>Sharpe Ratio</th>\n",
       "      <th>Portfolio Weights</th>\n",
       "    </tr>\n",
       "  </thead>\n",
       "  <tbody>\n",
       "    <tr>\n",
       "      <th>0</th>\n",
       "      <td>0.200294</td>\n",
       "      <td>0.190325</td>\n",
       "      <td>1.05238</td>\n",
       "      <td>[0.2890253253737348, 0.21377069446781874, 0.30430957782860074, 0.19289440232984564]</td>\n",
       "    </tr>\n",
       "    <tr>\n",
       "      <th>1</th>\n",
       "      <td>0.252558</td>\n",
       "      <td>0.228321</td>\n",
       "      <td>1.10615</td>\n",
       "      <td>[0.48054264569353994, 0.3303921108115607, 0.14906874166435666, 0.03999650183054243]</td>\n",
       "    </tr>\n",
       "    <tr>\n",
       "      <th>2</th>\n",
       "      <td>0.156534</td>\n",
       "      <td>0.144468</td>\n",
       "      <td>1.08352</td>\n",
       "      <td>[0.3662430959064755, 0.10474387404100176, 0.24736393627368486, 0.28164909377883784]</td>\n",
       "    </tr>\n",
       "    <tr>\n",
       "      <th>3</th>\n",
       "      <td>0.242695</td>\n",
       "      <td>0.232712</td>\n",
       "      <td>1.0429</td>\n",
       "      <td>[0.37118037067597376, 0.31401506290884046, 0.27146207360071284, 0.043342492814472944]</td>\n",
       "    </tr>\n",
       "    <tr>\n",
       "      <th>4</th>\n",
       "      <td>0.25619</td>\n",
       "      <td>0.223721</td>\n",
       "      <td>1.14513</td>\n",
       "      <td>[0.507135648052123, 0.3342127428842181, 0.0668155629836587, 0.09183604608000015]</td>\n",
       "    </tr>\n",
       "  </tbody>\n",
       "</table>\n",
       "</div>"
      ],
      "text/plain": [
       "  Port Returns Port Risk Sharpe Ratio  \\\n",
       "0     0.200294  0.190325      1.05238   \n",
       "1     0.252558  0.228321      1.10615   \n",
       "2     0.156534  0.144468      1.08352   \n",
       "3     0.242695  0.232712       1.0429   \n",
       "4      0.25619  0.223721      1.14513   \n",
       "\n",
       "                                                                       Portfolio Weights  \n",
       "0    [0.2890253253737348, 0.21377069446781874, 0.30430957782860074, 0.19289440232984564]  \n",
       "1    [0.48054264569353994, 0.3303921108115607, 0.14906874166435666, 0.03999650183054243]  \n",
       "2    [0.3662430959064755, 0.10474387404100176, 0.24736393627368486, 0.28164909377883784]  \n",
       "3  [0.37118037067597376, 0.31401506290884046, 0.27146207360071284, 0.043342492814472944]  \n",
       "4       [0.507135648052123, 0.3342127428842181, 0.0668155629836587, 0.09183604608000015]  "
      ]
     },
     "execution_count": 26,
     "metadata": {},
     "output_type": "execute_result"
    }
   ],
   "source": [
    "porfolio_metrics = [portfolio_returns,portfolio_risk,sharpe_ratio_port, portfolio_weights] \n",
    "#from Python list we create a Pandas DataFrame\n",
    "portfolio_dfs = pd.DataFrame(porfolio_metrics)\n",
    "portfolio_dfs = portfolio_dfs.T\n",
    "portfolio_dfs.columns = ['Port Returns','Port Risk','Sharpe Ratio','Portfolio Weights']\n",
    "portfolio_dfs.head()"
   ]
  },
  {
   "cell_type": "code",
   "execution_count": 27,
   "metadata": {},
   "outputs": [
    {
     "data": {
      "text/html": [
       "<div>\n",
       "<style scoped>\n",
       "    .dataframe tbody tr th:only-of-type {\n",
       "        vertical-align: middle;\n",
       "    }\n",
       "\n",
       "    .dataframe tbody tr th {\n",
       "        vertical-align: top;\n",
       "    }\n",
       "\n",
       "    .dataframe thead th {\n",
       "        text-align: right;\n",
       "    }\n",
       "</style>\n",
       "<table border=\"1\" class=\"dataframe\">\n",
       "  <thead>\n",
       "    <tr style=\"text-align: right;\">\n",
       "      <th></th>\n",
       "      <th>Port Returns</th>\n",
       "      <th>Port Risk</th>\n",
       "      <th>Sharpe Ratio</th>\n",
       "      <th>Portfolio Weights</th>\n",
       "    </tr>\n",
       "  </thead>\n",
       "  <tbody>\n",
       "    <tr>\n",
       "      <th>0</th>\n",
       "      <td>0.200294</td>\n",
       "      <td>0.190325</td>\n",
       "      <td>1.052376</td>\n",
       "      <td>[0.2890253253737348, 0.21377069446781874, 0.30430957782860074, 0.19289440232984564]</td>\n",
       "    </tr>\n",
       "    <tr>\n",
       "      <th>1</th>\n",
       "      <td>0.252558</td>\n",
       "      <td>0.228321</td>\n",
       "      <td>1.106154</td>\n",
       "      <td>[0.48054264569353994, 0.3303921108115607, 0.14906874166435666, 0.03999650183054243]</td>\n",
       "    </tr>\n",
       "    <tr>\n",
       "      <th>2</th>\n",
       "      <td>0.156534</td>\n",
       "      <td>0.144468</td>\n",
       "      <td>1.083523</td>\n",
       "      <td>[0.3662430959064755, 0.10474387404100176, 0.24736393627368486, 0.28164909377883784]</td>\n",
       "    </tr>\n",
       "    <tr>\n",
       "      <th>3</th>\n",
       "      <td>0.242695</td>\n",
       "      <td>0.232712</td>\n",
       "      <td>1.042901</td>\n",
       "      <td>[0.37118037067597376, 0.31401506290884046, 0.27146207360071284, 0.043342492814472944]</td>\n",
       "    </tr>\n",
       "    <tr>\n",
       "      <th>4</th>\n",
       "      <td>0.256190</td>\n",
       "      <td>0.223721</td>\n",
       "      <td>1.145134</td>\n",
       "      <td>[0.507135648052123, 0.3342127428842181, 0.0668155629836587, 0.09183604608000015]</td>\n",
       "    </tr>\n",
       "  </tbody>\n",
       "</table>\n",
       "</div>"
      ],
      "text/plain": [
       "   Port Returns  Port Risk  Sharpe Ratio  \\\n",
       "0      0.200294   0.190325      1.052376   \n",
       "1      0.252558   0.228321      1.106154   \n",
       "2      0.156534   0.144468      1.083523   \n",
       "3      0.242695   0.232712      1.042901   \n",
       "4      0.256190   0.223721      1.145134   \n",
       "\n",
       "                                                                       Portfolio Weights  \n",
       "0    [0.2890253253737348, 0.21377069446781874, 0.30430957782860074, 0.19289440232984564]  \n",
       "1    [0.48054264569353994, 0.3303921108115607, 0.14906874166435666, 0.03999650183054243]  \n",
       "2    [0.3662430959064755, 0.10474387404100176, 0.24736393627368486, 0.28164909377883784]  \n",
       "3  [0.37118037067597376, 0.31401506290884046, 0.27146207360071284, 0.043342492814472944]  \n",
       "4       [0.507135648052123, 0.3342127428842181, 0.0668155629836587, 0.09183604608000015]  "
      ]
     },
     "execution_count": 27,
     "metadata": {},
     "output_type": "execute_result"
    }
   ],
   "source": [
    "# Convert from object to float the first three columns\n",
    "for col in ['Port Returns', 'Port Risk', 'Sharpe Ratio']:\n",
    "    portfolio_dfs[col] = portfolio_dfs[col].astype(float)\n",
    "portfolio_dfs.head()"
   ]
  },
  {
   "cell_type": "code",
   "execution_count": 28,
   "metadata": {},
   "outputs": [
    {
     "name": "stdout",
     "output_type": "stream",
     "text": [
      "Port Returns                                                                                    0.199455\n",
      "Port Risk                                                                                       0.159654\n",
      "Sharpe Ratio                                                                                      1.2493\n",
      "Portfolio Weights    [0.4951951523700502, 0.19414399042272606, 0.012918164731066238, 0.2977426924761575]\n",
      "Name: 615, dtype: object\n",
      "Port Returns                                                                                    0.126286\n",
      "Port Risk                                                                                       0.126374\n",
      "Sharpe Ratio                                                                                    0.999308\n",
      "Portfolio Weights    [0.39889962517747013, 0.025680923887923864, 0.1458359592328362, 0.4295834917017698]\n",
      "Name: 791, dtype: object\n"
     ]
    }
   ],
   "source": [
    "#portfolio with the highest Sharpe Ratio\n",
    "Highest_sharpe_port = portfolio_dfs.iloc[portfolio_dfs['Sharpe Ratio'].idxmax()]\n",
    "#portfolio with the minimum risk \n",
    "min_risk = portfolio_dfs.iloc[portfolio_dfs['Port Risk'].idxmin()]\n",
    "\n",
    "print(Highest_sharpe_port)\n",
    "print(min_risk)"
   ]
  },
  {
   "cell_type": "markdown",
   "metadata": {},
   "source": [
    "### Calculate individual stock return using CAPM Model"
   ]
  },
  {
   "cell_type": "markdown",
   "metadata": {},
   "source": [
    "#### Walmart (WMT)"
   ]
  },
  {
   "cell_type": "code",
   "execution_count": 29,
   "metadata": {},
   "outputs": [],
   "source": [
    "MARKET_BENCHMARK = '^GSPC' "
   ]
  },
  {
   "cell_type": "code",
   "execution_count": 30,
   "metadata": {},
   "outputs": [
    {
     "data": {
      "text/html": [
       "<div>\n",
       "<style scoped>\n",
       "    .dataframe tbody tr th:only-of-type {\n",
       "        vertical-align: middle;\n",
       "    }\n",
       "\n",
       "    .dataframe tbody tr th {\n",
       "        vertical-align: top;\n",
       "    }\n",
       "\n",
       "    .dataframe thead tr th {\n",
       "        text-align: left;\n",
       "    }\n",
       "\n",
       "    .dataframe thead tr:last-of-type th {\n",
       "        text-align: right;\n",
       "    }\n",
       "</style>\n",
       "<table border=\"1\" class=\"dataframe\">\n",
       "  <thead>\n",
       "    <tr>\n",
       "      <th></th>\n",
       "      <th colspan=\"2\" halign=\"left\">Adj Close</th>\n",
       "      <th colspan=\"2\" halign=\"left\">Close</th>\n",
       "      <th colspan=\"2\" halign=\"left\">High</th>\n",
       "      <th colspan=\"2\" halign=\"left\">Low</th>\n",
       "      <th colspan=\"2\" halign=\"left\">Open</th>\n",
       "      <th colspan=\"2\" halign=\"left\">Volume</th>\n",
       "    </tr>\n",
       "    <tr>\n",
       "      <th></th>\n",
       "      <th>WMT</th>\n",
       "      <th>^GSPC</th>\n",
       "      <th>WMT</th>\n",
       "      <th>^GSPC</th>\n",
       "      <th>WMT</th>\n",
       "      <th>^GSPC</th>\n",
       "      <th>WMT</th>\n",
       "      <th>^GSPC</th>\n",
       "      <th>WMT</th>\n",
       "      <th>^GSPC</th>\n",
       "      <th>WMT</th>\n",
       "      <th>^GSPC</th>\n",
       "    </tr>\n",
       "    <tr>\n",
       "      <th>Date</th>\n",
       "      <th></th>\n",
       "      <th></th>\n",
       "      <th></th>\n",
       "      <th></th>\n",
       "      <th></th>\n",
       "      <th></th>\n",
       "      <th></th>\n",
       "      <th></th>\n",
       "      <th></th>\n",
       "      <th></th>\n",
       "      <th></th>\n",
       "      <th></th>\n",
       "    </tr>\n",
       "  </thead>\n",
       "  <tbody>\n",
       "    <tr>\n",
       "      <th>2010-01-04</th>\n",
       "      <td>40.963642</td>\n",
       "      <td>1132.989990</td>\n",
       "      <td>54.230000</td>\n",
       "      <td>1132.989990</td>\n",
       "      <td>54.669998</td>\n",
       "      <td>1133.869995</td>\n",
       "      <td>53.669998</td>\n",
       "      <td>1116.560059</td>\n",
       "      <td>53.740002</td>\n",
       "      <td>1116.560059</td>\n",
       "      <td>20753100</td>\n",
       "      <td>3991400000</td>\n",
       "    </tr>\n",
       "    <tr>\n",
       "      <th>2010-01-05</th>\n",
       "      <td>40.555740</td>\n",
       "      <td>1136.520020</td>\n",
       "      <td>53.689999</td>\n",
       "      <td>1136.520020</td>\n",
       "      <td>54.189999</td>\n",
       "      <td>1136.630005</td>\n",
       "      <td>53.570000</td>\n",
       "      <td>1129.660034</td>\n",
       "      <td>54.090000</td>\n",
       "      <td>1132.660034</td>\n",
       "      <td>15648400</td>\n",
       "      <td>2491020000</td>\n",
       "    </tr>\n",
       "    <tr>\n",
       "      <th>2010-01-06</th>\n",
       "      <td>40.465096</td>\n",
       "      <td>1137.140015</td>\n",
       "      <td>53.570000</td>\n",
       "      <td>1137.140015</td>\n",
       "      <td>53.830002</td>\n",
       "      <td>1139.189941</td>\n",
       "      <td>53.419998</td>\n",
       "      <td>1133.949951</td>\n",
       "      <td>53.500000</td>\n",
       "      <td>1135.709961</td>\n",
       "      <td>12517200</td>\n",
       "      <td>4972660000</td>\n",
       "    </tr>\n",
       "    <tr>\n",
       "      <th>2010-01-07</th>\n",
       "      <td>40.487751</td>\n",
       "      <td>1141.689941</td>\n",
       "      <td>53.599998</td>\n",
       "      <td>1141.689941</td>\n",
       "      <td>53.750000</td>\n",
       "      <td>1142.459961</td>\n",
       "      <td>53.259998</td>\n",
       "      <td>1131.319946</td>\n",
       "      <td>53.720001</td>\n",
       "      <td>1136.270020</td>\n",
       "      <td>10662700</td>\n",
       "      <td>5270680000</td>\n",
       "    </tr>\n",
       "    <tr>\n",
       "      <th>2010-01-08</th>\n",
       "      <td>40.283821</td>\n",
       "      <td>1144.979980</td>\n",
       "      <td>53.330002</td>\n",
       "      <td>1144.979980</td>\n",
       "      <td>53.529999</td>\n",
       "      <td>1145.390015</td>\n",
       "      <td>53.020000</td>\n",
       "      <td>1136.219971</td>\n",
       "      <td>53.430000</td>\n",
       "      <td>1140.520020</td>\n",
       "      <td>11363200</td>\n",
       "      <td>4389590000</td>\n",
       "    </tr>\n",
       "  </tbody>\n",
       "</table>\n",
       "</div>"
      ],
      "text/plain": [
       "            Adj Close                   Close                    High  \\\n",
       "                  WMT        ^GSPC        WMT        ^GSPC        WMT   \n",
       "Date                                                                    \n",
       "2010-01-04  40.963642  1132.989990  54.230000  1132.989990  54.669998   \n",
       "2010-01-05  40.555740  1136.520020  53.689999  1136.520020  54.189999   \n",
       "2010-01-06  40.465096  1137.140015  53.570000  1137.140015  53.830002   \n",
       "2010-01-07  40.487751  1141.689941  53.599998  1141.689941  53.750000   \n",
       "2010-01-08  40.283821  1144.979980  53.330002  1144.979980  53.529999   \n",
       "\n",
       "                               Low                    Open               \\\n",
       "                  ^GSPC        WMT        ^GSPC        WMT        ^GSPC   \n",
       "Date                                                                      \n",
       "2010-01-04  1133.869995  53.669998  1116.560059  53.740002  1116.560059   \n",
       "2010-01-05  1136.630005  53.570000  1129.660034  54.090000  1132.660034   \n",
       "2010-01-06  1139.189941  53.419998  1133.949951  53.500000  1135.709961   \n",
       "2010-01-07  1142.459961  53.259998  1131.319946  53.720001  1136.270020   \n",
       "2010-01-08  1145.390015  53.020000  1136.219971  53.430000  1140.520020   \n",
       "\n",
       "              Volume              \n",
       "                 WMT       ^GSPC  \n",
       "Date                              \n",
       "2010-01-04  20753100  3991400000  \n",
       "2010-01-05  15648400  2491020000  \n",
       "2010-01-06  12517200  4972660000  \n",
       "2010-01-07  10662700  5270680000  \n",
       "2010-01-08  11363200  4389590000  "
      ]
     },
     "execution_count": 30,
     "metadata": {},
     "output_type": "execute_result"
    }
   ],
   "source": [
    "# Download data\n",
    "wmt = yf.download(['WMT',MARKET_BENCHMARK], start=START_DATE,end=END_DATE, adjusted=True, progress=False)\n",
    "wmt.head()"
   ]
  },
  {
   "cell_type": "code",
   "execution_count": 31,
   "metadata": {},
   "outputs": [
    {
     "data": {
      "text/html": [
       "<div>\n",
       "<style scoped>\n",
       "    .dataframe tbody tr th:only-of-type {\n",
       "        vertical-align: middle;\n",
       "    }\n",
       "\n",
       "    .dataframe tbody tr th {\n",
       "        vertical-align: top;\n",
       "    }\n",
       "\n",
       "    .dataframe thead th {\n",
       "        text-align: right;\n",
       "    }\n",
       "</style>\n",
       "<table border=\"1\" class=\"dataframe\">\n",
       "  <thead>\n",
       "    <tr style=\"text-align: right;\">\n",
       "      <th></th>\n",
       "      <th>WMT</th>\n",
       "      <th>^GSPC</th>\n",
       "    </tr>\n",
       "    <tr>\n",
       "      <th>Date</th>\n",
       "      <th></th>\n",
       "      <th></th>\n",
       "    </tr>\n",
       "  </thead>\n",
       "  <tbody>\n",
       "    <tr>\n",
       "      <th>2010-01-04</th>\n",
       "      <td>40.963642</td>\n",
       "      <td>1132.989990</td>\n",
       "    </tr>\n",
       "    <tr>\n",
       "      <th>2010-01-05</th>\n",
       "      <td>40.555740</td>\n",
       "      <td>1136.520020</td>\n",
       "    </tr>\n",
       "    <tr>\n",
       "      <th>2010-01-06</th>\n",
       "      <td>40.465096</td>\n",
       "      <td>1137.140015</td>\n",
       "    </tr>\n",
       "    <tr>\n",
       "      <th>2010-01-07</th>\n",
       "      <td>40.487751</td>\n",
       "      <td>1141.689941</td>\n",
       "    </tr>\n",
       "    <tr>\n",
       "      <th>2010-01-08</th>\n",
       "      <td>40.283821</td>\n",
       "      <td>1144.979980</td>\n",
       "    </tr>\n",
       "  </tbody>\n",
       "</table>\n",
       "</div>"
      ],
      "text/plain": [
       "                  WMT        ^GSPC\n",
       "Date                              \n",
       "2010-01-04  40.963642  1132.989990\n",
       "2010-01-05  40.555740  1136.520020\n",
       "2010-01-06  40.465096  1137.140015\n",
       "2010-01-07  40.487751  1141.689941\n",
       "2010-01-08  40.283821  1144.979980"
      ]
     },
     "execution_count": 31,
     "metadata": {},
     "output_type": "execute_result"
    }
   ],
   "source": [
    "# Only need Adj Close column\n",
    "wmt = wmt['Adj Close']\n",
    "wmt.head()"
   ]
  },
  {
   "cell_type": "code",
   "execution_count": 32,
   "metadata": {},
   "outputs": [
    {
     "data": {
      "text/html": [
       "<div>\n",
       "<style scoped>\n",
       "    .dataframe tbody tr th:only-of-type {\n",
       "        vertical-align: middle;\n",
       "    }\n",
       "\n",
       "    .dataframe tbody tr th {\n",
       "        vertical-align: top;\n",
       "    }\n",
       "\n",
       "    .dataframe thead th {\n",
       "        text-align: right;\n",
       "    }\n",
       "</style>\n",
       "<table border=\"1\" class=\"dataframe\">\n",
       "  <thead>\n",
       "    <tr style=\"text-align: right;\">\n",
       "      <th></th>\n",
       "      <th>WMT</th>\n",
       "      <th>^GSPC</th>\n",
       "    </tr>\n",
       "    <tr>\n",
       "      <th>Date</th>\n",
       "      <th></th>\n",
       "      <th></th>\n",
       "    </tr>\n",
       "  </thead>\n",
       "  <tbody>\n",
       "    <tr>\n",
       "      <th>2010-02-28</th>\n",
       "      <td>0.011978</td>\n",
       "      <td>0.028514</td>\n",
       "    </tr>\n",
       "    <tr>\n",
       "      <th>2010-03-31</th>\n",
       "      <td>0.034093</td>\n",
       "      <td>0.058796</td>\n",
       "    </tr>\n",
       "    <tr>\n",
       "      <th>2010-04-30</th>\n",
       "      <td>-0.035252</td>\n",
       "      <td>0.014759</td>\n",
       "    </tr>\n",
       "    <tr>\n",
       "      <th>2010-05-31</th>\n",
       "      <td>-0.051944</td>\n",
       "      <td>-0.081976</td>\n",
       "    </tr>\n",
       "    <tr>\n",
       "      <th>2010-06-30</th>\n",
       "      <td>-0.049249</td>\n",
       "      <td>-0.053882</td>\n",
       "    </tr>\n",
       "  </tbody>\n",
       "</table>\n",
       "</div>"
      ],
      "text/plain": [
       "                 WMT     ^GSPC\n",
       "Date                          \n",
       "2010-02-28  0.011978  0.028514\n",
       "2010-03-31  0.034093  0.058796\n",
       "2010-04-30 -0.035252  0.014759\n",
       "2010-05-31 -0.051944 -0.081976\n",
       "2010-06-30 -0.049249 -0.053882"
      ]
     },
     "execution_count": 32,
     "metadata": {},
     "output_type": "execute_result"
    }
   ],
   "source": [
    "# Resample data to monthly and calculate monthly return\n",
    "wmt_return = wmt.resample('M').last().pct_change().dropna()\n",
    "wmt_return.head()"
   ]
  },
  {
   "cell_type": "code",
   "execution_count": 33,
   "metadata": {},
   "outputs": [
    {
     "data": {
      "text/html": [
       "<div>\n",
       "<style scoped>\n",
       "    .dataframe tbody tr th:only-of-type {\n",
       "        vertical-align: middle;\n",
       "    }\n",
       "\n",
       "    .dataframe tbody tr th {\n",
       "        vertical-align: top;\n",
       "    }\n",
       "\n",
       "    .dataframe thead th {\n",
       "        text-align: right;\n",
       "    }\n",
       "</style>\n",
       "<table border=\"1\" class=\"dataframe\">\n",
       "  <thead>\n",
       "    <tr style=\"text-align: right;\">\n",
       "      <th></th>\n",
       "      <th>WMT</th>\n",
       "      <th>market</th>\n",
       "    </tr>\n",
       "    <tr>\n",
       "      <th>Date</th>\n",
       "      <th></th>\n",
       "      <th></th>\n",
       "    </tr>\n",
       "  </thead>\n",
       "  <tbody>\n",
       "    <tr>\n",
       "      <th>2010-02-28</th>\n",
       "      <td>0.011978</td>\n",
       "      <td>0.028514</td>\n",
       "    </tr>\n",
       "    <tr>\n",
       "      <th>2010-03-31</th>\n",
       "      <td>0.034093</td>\n",
       "      <td>0.058796</td>\n",
       "    </tr>\n",
       "    <tr>\n",
       "      <th>2010-04-30</th>\n",
       "      <td>-0.035252</td>\n",
       "      <td>0.014759</td>\n",
       "    </tr>\n",
       "    <tr>\n",
       "      <th>2010-05-31</th>\n",
       "      <td>-0.051944</td>\n",
       "      <td>-0.081976</td>\n",
       "    </tr>\n",
       "    <tr>\n",
       "      <th>2010-06-30</th>\n",
       "      <td>-0.049249</td>\n",
       "      <td>-0.053882</td>\n",
       "    </tr>\n",
       "  </tbody>\n",
       "</table>\n",
       "</div>"
      ],
      "text/plain": [
       "                 WMT    market\n",
       "Date                          \n",
       "2010-02-28  0.011978  0.028514\n",
       "2010-03-31  0.034093  0.058796\n",
       "2010-04-30 -0.035252  0.014759\n",
       "2010-05-31 -0.051944 -0.081976\n",
       "2010-06-30 -0.049249 -0.053882"
      ]
     },
     "execution_count": 33,
     "metadata": {},
     "output_type": "execute_result"
    }
   ],
   "source": [
    "# Rename ^GSPC to market\n",
    "wmt_return = wmt_return.rename(columns={MARKET_BENCHMARK: 'market'})\n",
    "wmt_return.head()"
   ]
  },
  {
   "cell_type": "code",
   "execution_count": 34,
   "metadata": {},
   "outputs": [
    {
     "data": {
      "text/html": [
       "<div>\n",
       "<style scoped>\n",
       "    .dataframe tbody tr th:only-of-type {\n",
       "        vertical-align: middle;\n",
       "    }\n",
       "\n",
       "    .dataframe tbody tr th {\n",
       "        vertical-align: top;\n",
       "    }\n",
       "\n",
       "    .dataframe thead th {\n",
       "        text-align: right;\n",
       "    }\n",
       "</style>\n",
       "<table border=\"1\" class=\"dataframe\">\n",
       "  <thead>\n",
       "    <tr style=\"text-align: right;\">\n",
       "      <th></th>\n",
       "      <th>WMT</th>\n",
       "      <th>market</th>\n",
       "    </tr>\n",
       "  </thead>\n",
       "  <tbody>\n",
       "    <tr>\n",
       "      <th>WMT</th>\n",
       "      <td>0.002283</td>\n",
       "      <td>0.000531</td>\n",
       "    </tr>\n",
       "    <tr>\n",
       "      <th>market</th>\n",
       "      <td>0.000531</td>\n",
       "      <td>0.001286</td>\n",
       "    </tr>\n",
       "  </tbody>\n",
       "</table>\n",
       "</div>"
      ],
      "text/plain": [
       "             WMT    market\n",
       "WMT     0.002283  0.000531\n",
       "market  0.000531  0.001286"
      ]
     },
     "execution_count": 34,
     "metadata": {},
     "output_type": "execute_result"
    }
   ],
   "source": [
    "wmt_return.cov()"
   ]
  },
  {
   "cell_type": "code",
   "execution_count": 35,
   "metadata": {},
   "outputs": [
    {
     "data": {
      "text/plain": [
       "0.0005313842574661779"
      ]
     },
     "execution_count": 35,
     "metadata": {},
     "output_type": "execute_result"
    }
   ],
   "source": [
    "# Use iloc to get the upper right value from covariance\n",
    "wmt_covariance = wmt_return.cov().iloc[0,1]     \n",
    "wmt_covariance"
   ]
  },
  {
   "cell_type": "code",
   "execution_count": 36,
   "metadata": {},
   "outputs": [
    {
     "data": {
      "text/plain": [
       "0.001285973521712091"
      ]
     },
     "execution_count": 36,
     "metadata": {},
     "output_type": "execute_result"
    }
   ],
   "source": [
    "# Calculate market variance\n",
    "benchmark_variance = wmt_return.market.var()\n",
    "benchmark_variance"
   ]
  },
  {
   "cell_type": "code",
   "execution_count": 37,
   "metadata": {},
   "outputs": [
    {
     "data": {
      "text/plain": [
       "0.41321555109370783"
      ]
     },
     "execution_count": 37,
     "metadata": {},
     "output_type": "execute_result"
    }
   ],
   "source": [
    "# Calculate beta\n",
    "wmt_beta = wmt_covariance / benchmark_variance\n",
    "wmt_beta"
   ]
  },
  {
   "cell_type": "code",
   "execution_count": 38,
   "metadata": {},
   "outputs": [
    {
     "data": {
      "text/plain": [
       "Date\n",
       "2010-02-28    0.011978\n",
       "2010-03-31    0.034093\n",
       "2010-04-30   -0.035252\n",
       "2010-05-31   -0.051944\n",
       "2010-06-30   -0.049249\n",
       "Freq: M, Name: WMT, dtype: float64"
      ]
     },
     "execution_count": 38,
     "metadata": {},
     "output_type": "execute_result"
    }
   ],
   "source": [
    "# Extract WMT column by using pop method\n",
    "wmt_y = wmt_return.pop('WMT')   \n",
    "wmt_y.head()"
   ]
  },
  {
   "cell_type": "code",
   "execution_count": 39,
   "metadata": {},
   "outputs": [
    {
     "data": {
      "text/html": [
       "<div>\n",
       "<style scoped>\n",
       "    .dataframe tbody tr th:only-of-type {\n",
       "        vertical-align: middle;\n",
       "    }\n",
       "\n",
       "    .dataframe tbody tr th {\n",
       "        vertical-align: top;\n",
       "    }\n",
       "\n",
       "    .dataframe thead th {\n",
       "        text-align: right;\n",
       "    }\n",
       "</style>\n",
       "<table border=\"1\" class=\"dataframe\">\n",
       "  <thead>\n",
       "    <tr style=\"text-align: right;\">\n",
       "      <th></th>\n",
       "      <th>const</th>\n",
       "      <th>market</th>\n",
       "    </tr>\n",
       "    <tr>\n",
       "      <th>Date</th>\n",
       "      <th></th>\n",
       "      <th></th>\n",
       "    </tr>\n",
       "  </thead>\n",
       "  <tbody>\n",
       "    <tr>\n",
       "      <th>2010-02-28</th>\n",
       "      <td>1.0</td>\n",
       "      <td>0.028514</td>\n",
       "    </tr>\n",
       "    <tr>\n",
       "      <th>2010-03-31</th>\n",
       "      <td>1.0</td>\n",
       "      <td>0.058796</td>\n",
       "    </tr>\n",
       "    <tr>\n",
       "      <th>2010-04-30</th>\n",
       "      <td>1.0</td>\n",
       "      <td>0.014759</td>\n",
       "    </tr>\n",
       "    <tr>\n",
       "      <th>2010-05-31</th>\n",
       "      <td>1.0</td>\n",
       "      <td>-0.081976</td>\n",
       "    </tr>\n",
       "    <tr>\n",
       "      <th>2010-06-30</th>\n",
       "      <td>1.0</td>\n",
       "      <td>-0.053882</td>\n",
       "    </tr>\n",
       "  </tbody>\n",
       "</table>\n",
       "</div>"
      ],
      "text/plain": [
       "            const    market\n",
       "Date                       \n",
       "2010-02-28    1.0  0.028514\n",
       "2010-03-31    1.0  0.058796\n",
       "2010-04-30    1.0  0.014759\n",
       "2010-05-31    1.0 -0.081976\n",
       "2010-06-30    1.0 -0.053882"
      ]
     },
     "execution_count": 39,
     "metadata": {},
     "output_type": "execute_result"
    }
   ],
   "source": [
    "# Added the constant to the features (effectively adding a column of ones) with the add_constant function\n",
    "wmt_return = sm.add_constant(wmt_return)\n",
    "wmt_return.head()"
   ]
  },
  {
   "cell_type": "code",
   "execution_count": 40,
   "metadata": {},
   "outputs": [
    {
     "name": "stdout",
     "output_type": "stream",
     "text": [
      "                            OLS Regression Results                            \n",
      "==============================================================================\n",
      "Dep. Variable:                    WMT   R-squared:                       0.096\n",
      "Model:                            OLS   Adj. R-squared:                  0.088\n",
      "Method:                 Least Squares   F-statistic:                     12.45\n",
      "Date:                Wed, 15 Dec 2021   Prob (F-statistic):           0.000599\n",
      "Time:                        14:06:36   Log-Likelihood:                 199.55\n",
      "No. Observations:                 119   AIC:                            -395.1\n",
      "Df Residuals:                     117   BIC:                            -389.5\n",
      "Df Model:                           1                                         \n",
      "Covariance Type:            nonrobust                                         \n",
      "==============================================================================\n",
      "                 coef    std err          t      P>|t|      [0.025      0.975]\n",
      "------------------------------------------------------------------------------\n",
      "const          0.0059      0.004      1.351      0.179      -0.003       0.014\n",
      "market         0.4132      0.117      3.528      0.001       0.181       0.645\n",
      "==============================================================================\n",
      "Omnibus:                        8.958   Durbin-Watson:                   2.035\n",
      "Prob(Omnibus):                  0.011   Jarque-Bera (JB):               19.839\n",
      "Skew:                           0.010   Prob(JB):                     4.92e-05\n",
      "Kurtosis:                       5.000   Cond. No.                         28.0\n",
      "==============================================================================\n",
      "\n",
      "Notes:\n",
      "[1] Standard Errors assume that the covariance matrix of the errors is correctly specified.\n"
     ]
    }
   ],
   "source": [
    "capm_model = sm.OLS(wmt_y, wmt_return).fit()\n",
    "print(capm_model.summary())"
   ]
  },
  {
   "cell_type": "code",
   "execution_count": 41,
   "metadata": {},
   "outputs": [],
   "source": [
    "# These results indicate that the beta (denoted as market here) is equal to 1.67, which means that Amazon's returns are 67% more volatile than the market (proxied by S&P 500). The value of the intercept is relatively small and statistically insignificant at the 5% significance level."
   ]
  },
  {
   "cell_type": "markdown",
   "metadata": {},
   "source": [
    "#### Netflix (NFLX)"
   ]
  },
  {
   "cell_type": "code",
   "execution_count": 42,
   "metadata": {},
   "outputs": [
    {
     "name": "stdout",
     "output_type": "stream",
     "text": [
      "                            OLS Regression Results                            \n",
      "==============================================================================\n",
      "Dep. Variable:                   NFLX   R-squared:                       0.062\n",
      "Model:                            OLS   Adj. R-squared:                  0.054\n",
      "Method:                 Least Squares   F-statistic:                     7.772\n",
      "Date:                Wed, 15 Dec 2021   Prob (F-statistic):            0.00619\n",
      "Time:                        14:06:36   Log-Likelihood:                 44.226\n",
      "No. Observations:                 119   AIC:                            -84.45\n",
      "Df Residuals:                     117   BIC:                            -78.89\n",
      "Df Model:                           1                                         \n",
      "Covariance Type:            nonrobust                                         \n",
      "==============================================================================\n",
      "                 coef    std err          t      P>|t|      [0.025      0.975]\n",
      "------------------------------------------------------------------------------\n",
      "const          0.0325      0.016      2.030      0.045       0.001       0.064\n",
      "market         1.2044      0.432      2.788      0.006       0.349       2.060\n",
      "==============================================================================\n",
      "Omnibus:                       31.893   Durbin-Watson:                   1.827\n",
      "Prob(Omnibus):                  0.000   Jarque-Bera (JB):               86.527\n",
      "Skew:                           0.971   Prob(JB):                     1.63e-19\n",
      "Kurtosis:                       6.699   Cond. No.                         28.0\n",
      "==============================================================================\n",
      "\n",
      "Notes:\n",
      "[1] Standard Errors assume that the covariance matrix of the errors is correctly specified.\n"
     ]
    }
   ],
   "source": [
    "# We proceed similar to steps above, but we combine steps into one cell\n",
    "nflx = yf.download(['NFLX',MARKET_BENCHMARK], start=START_DATE,end=END_DATE, adjusted=True, progress=False)\n",
    "nflx = nflx['Adj Close']\n",
    "nflx_return = nflx.resample('M').last().pct_change().dropna()\n",
    "nflx_return = nflx_return.rename(columns={MARKET_BENCHMARK: 'market'})\n",
    "nflx_covariance = nflx_return.cov().iloc[0,1]  \n",
    "nflx_beta = nflx_covariance / benchmark_variance\n",
    "nflx_y = nflx_return.pop('NFLX')\n",
    "nflx_return = sm.add_constant(nflx_return)\n",
    "capm_model = sm.OLS(nflx_y, nflx_return).fit()\n",
    "print(capm_model.summary())"
   ]
  },
  {
   "cell_type": "markdown",
   "metadata": {},
   "source": [
    "#### Goldman Sachs (GS)"
   ]
  },
  {
   "cell_type": "code",
   "execution_count": 43,
   "metadata": {},
   "outputs": [
    {
     "name": "stdout",
     "output_type": "stream",
     "text": [
      "                            OLS Regression Results                            \n",
      "==============================================================================\n",
      "Dep. Variable:                     GS   R-squared:                       0.451\n",
      "Model:                            OLS   Adj. R-squared:                  0.446\n",
      "Method:                 Least Squares   F-statistic:                     96.13\n",
      "Date:                Wed, 15 Dec 2021   Prob (F-statistic):           6.30e-17\n",
      "Time:                        14:06:36   Log-Likelihood:                 170.80\n",
      "No. Observations:                 119   AIC:                            -337.6\n",
      "Df Residuals:                     117   BIC:                            -332.0\n",
      "Df Model:                           1                                         \n",
      "Covariance Type:            nonrobust                                         \n",
      "==============================================================================\n",
      "                 coef    std err          t      P>|t|      [0.025      0.975]\n",
      "------------------------------------------------------------------------------\n",
      "const         -0.0067      0.006     -1.210      0.229      -0.018       0.004\n",
      "market         1.4620      0.149      9.804      0.000       1.167       1.757\n",
      "==============================================================================\n",
      "Omnibus:                        9.063   Durbin-Watson:                   2.115\n",
      "Prob(Omnibus):                  0.011   Jarque-Bera (JB):               11.971\n",
      "Skew:                           0.408   Prob(JB):                      0.00251\n",
      "Kurtosis:                       4.322   Cond. No.                         28.0\n",
      "==============================================================================\n",
      "\n",
      "Notes:\n",
      "[1] Standard Errors assume that the covariance matrix of the errors is correctly specified.\n"
     ]
    }
   ],
   "source": [
    "gs = yf.download(['GS',MARKET_BENCHMARK], start=START_DATE,end=END_DATE, adjusted=True, progress=False)\n",
    "gs = gs['Adj Close']\n",
    "gs_return = gs.resample('M').last().pct_change().dropna()\n",
    "gs_return = gs_return.rename(columns={MARKET_BENCHMARK: 'market'})\n",
    "gs_covariance = gs_return.cov().iloc[0,1]  \n",
    "gs_beta = gs_covariance / benchmark_variance\n",
    "gs_y = gs_return.pop('GS')\n",
    "gs_return = sm.add_constant(gs_return)\n",
    "capm_model = sm.OLS(gs_y, gs_return).fit()\n",
    "print(capm_model.summary())"
   ]
  },
  {
   "cell_type": "markdown",
   "metadata": {},
   "source": [
    "#### Novartis (NVS)"
   ]
  },
  {
   "cell_type": "code",
   "execution_count": 44,
   "metadata": {},
   "outputs": [
    {
     "name": "stdout",
     "output_type": "stream",
     "text": [
      "                            OLS Regression Results                            \n",
      "==============================================================================\n",
      "Dep. Variable:                    NVS   R-squared:                       0.193\n",
      "Model:                            OLS   Adj. R-squared:                  0.186\n",
      "Method:                 Least Squares   F-statistic:                     27.90\n",
      "Date:                Wed, 15 Dec 2021   Prob (F-statistic):           5.99e-07\n",
      "Time:                        14:06:37   Log-Likelihood:                 208.11\n",
      "No. Observations:                 119   AIC:                            -412.2\n",
      "Df Residuals:                     117   BIC:                            -406.7\n",
      "Df Model:                           1                                         \n",
      "Covariance Type:            nonrobust                                         \n",
      "==============================================================================\n",
      "                 coef    std err          t      P>|t|      [0.025      0.975]\n",
      "------------------------------------------------------------------------------\n",
      "const          0.0042      0.004      1.034      0.303      -0.004       0.012\n",
      "market         0.5756      0.109      5.282      0.000       0.360       0.791\n",
      "==============================================================================\n",
      "Omnibus:                        1.079   Durbin-Watson:                   2.181\n",
      "Prob(Omnibus):                  0.583   Jarque-Bera (JB):                1.022\n",
      "Skew:                           0.047   Prob(JB):                        0.600\n",
      "Kurtosis:                       2.556   Cond. No.                         28.0\n",
      "==============================================================================\n",
      "\n",
      "Notes:\n",
      "[1] Standard Errors assume that the covariance matrix of the errors is correctly specified.\n"
     ]
    }
   ],
   "source": [
    "nvs = yf.download(['NVS',MARKET_BENCHMARK], start=START_DATE,end=END_DATE, adjusted=True, progress=False)\n",
    "nvs = nvs['Adj Close']\n",
    "nvs_return = nvs.resample('M').last().pct_change().dropna()\n",
    "nvs_return = nvs_return.rename(columns={MARKET_BENCHMARK: 'market'})\n",
    "nvs_covariance = nvs_return.cov().iloc[0,1]  \n",
    "nvs_beta = nvs_covariance / benchmark_variance\n",
    "nvs_y = nvs_return.pop('NVS')\n",
    "nvs_return = sm.add_constant(nvs_return)\n",
    "capm_model = sm.OLS(nvs_y, nvs_return).fit()\n",
    "print(capm_model.summary())"
   ]
  },
  {
   "cell_type": "code",
   "execution_count": null,
   "metadata": {},
   "outputs": [],
   "source": []
  }
 ],
 "metadata": {
  "kernelspec": {
   "display_name": "Python 3",
   "language": "python",
   "name": "python3"
  },
  "language_info": {
   "codemirror_mode": {
    "name": "ipython",
    "version": 3
   },
   "file_extension": ".py",
   "mimetype": "text/x-python",
   "name": "python",
   "nbconvert_exporter": "python",
   "pygments_lexer": "ipython3",
   "version": "3.8.5"
  }
 },
 "nbformat": 4,
 "nbformat_minor": 4
}
