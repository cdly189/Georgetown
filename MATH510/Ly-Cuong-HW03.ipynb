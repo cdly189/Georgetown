{
 "cells": [
  {
   "cell_type": "markdown",
   "metadata": {},
   "source": [
    "### Exercise 1"
   ]
  },
  {
   "cell_type": "code",
   "execution_count": 1,
   "metadata": {},
   "outputs": [],
   "source": [
    "def tsilekam(start,end,increment):\n",
    "    \"\"\" Make a list given start and end with increment backward \"\"\"\n",
    "    l = []\n",
    "    current_value = start \n",
    "    while current_value <= end:\n",
    "        l.append(current_value)\n",
    "        current_value += increment\n",
    "        \n",
    "    return l[::-1]"
   ]
  },
  {
   "cell_type": "code",
   "execution_count": 2,
   "metadata": {},
   "outputs": [
    {
     "data": {
      "text/plain": [
       "[10.0, 7.5, 5.0, 2.5, 0]"
      ]
     },
     "execution_count": 2,
     "metadata": {},
     "output_type": "execute_result"
    }
   ],
   "source": [
    "# Example to demonstrate the function tsilekam works\n",
    "tsilekam(0,10,2.5)"
   ]
  },
  {
   "cell_type": "markdown",
   "metadata": {},
   "source": [
    "### Exercise 2"
   ]
  },
  {
   "cell_type": "code",
   "execution_count": 3,
   "metadata": {},
   "outputs": [],
   "source": [
    "def quad(x,a,b,c):\n",
    "    \"\"\"\n",
    "    A function to return values and its derivative\n",
    "    Parameters: x, a, b, c\n",
    "    Return a value evaluated with given x \n",
    "    Example:\n",
    "    g(x) = 3x^2 - 5x + 7 at x = 3 equals to 27 - 15 + 7 = 19 and its derivative is 6x - 5\n",
    "    \n",
    "    \"\"\"\n",
    "    # Find two solutions using formula (-b +- b^2 - 4ac) / 2a\n",
    "    \n",
    "    x1 = (-b + (b**2 - 4*a*c)**(1/2)) / (2*a)\n",
    "    x2 = (-b - (b**2 - 4*a*c)**(1/2)) / (2*a)\n",
    "    \n",
    "    # Evaluate at x = 3 \n",
    "    value = 3*x**2 - 5*x + 7\n",
    "    \n",
    "    # Derivative\n",
    "    deriv = 6*x - 5\n",
    "    \n",
    "    return x1, x2, value, deriv\n",
    "    \n",
    "    \n"
   ]
  },
  {
   "cell_type": "code",
   "execution_count": 4,
   "metadata": {},
   "outputs": [
    {
     "data": {
      "text/plain": [
       "(-1.0, -2.0, 19, 13)"
      ]
     },
     "execution_count": 4,
     "metadata": {},
     "output_type": "execute_result"
    }
   ],
   "source": [
    "quad(3,1,3,2)"
   ]
  },
  {
   "cell_type": "markdown",
   "metadata": {},
   "source": [
    "### Exercise 4"
   ]
  },
  {
   "cell_type": "code",
   "execution_count": 5,
   "metadata": {},
   "outputs": [],
   "source": [
    "def H(x):\n",
    "    \"\"\"Heaviside funtion\"\"\"\n",
    "    if x < 0:\n",
    "        return 0\n",
    "    \n",
    "    elif x >= 0:\n",
    "        return 1"
   ]
  },
  {
   "cell_type": "code",
   "execution_count": 6,
   "metadata": {},
   "outputs": [
    {
     "data": {
      "text/plain": [
       "0"
      ]
     },
     "execution_count": 6,
     "metadata": {},
     "output_type": "execute_result"
    }
   ],
   "source": [
    "H(-10)"
   ]
  },
  {
   "cell_type": "code",
   "execution_count": 7,
   "metadata": {},
   "outputs": [
    {
     "data": {
      "text/plain": [
       "0"
      ]
     },
     "execution_count": 7,
     "metadata": {},
     "output_type": "execute_result"
    }
   ],
   "source": [
    "H(-10**-15)"
   ]
  },
  {
   "cell_type": "code",
   "execution_count": 8,
   "metadata": {},
   "outputs": [
    {
     "data": {
      "text/plain": [
       "1"
      ]
     },
     "execution_count": 8,
     "metadata": {},
     "output_type": "execute_result"
    }
   ],
   "source": [
    "H(0)"
   ]
  },
  {
   "cell_type": "code",
   "execution_count": 9,
   "metadata": {},
   "outputs": [
    {
     "data": {
      "text/plain": [
       "1"
      ]
     },
     "execution_count": 9,
     "metadata": {},
     "output_type": "execute_result"
    }
   ],
   "source": [
    "H(10**-15)"
   ]
  },
  {
   "cell_type": "code",
   "execution_count": 10,
   "metadata": {},
   "outputs": [
    {
     "data": {
      "text/plain": [
       "1"
      ]
     },
     "execution_count": 10,
     "metadata": {},
     "output_type": "execute_result"
    }
   ],
   "source": [
    "H(10)"
   ]
  },
  {
   "cell_type": "code",
   "execution_count": 11,
   "metadata": {},
   "outputs": [],
   "source": [
    "from math import sin,pi"
   ]
  },
  {
   "cell_type": "code",
   "execution_count": 12,
   "metadata": {},
   "outputs": [],
   "source": [
    "def H_esp(x, esp=0.1):\n",
    "    \"\"\"A Heaviside funtion \n",
    "       where its function and derivative are continuous\n",
    "    \"\"\"\n",
    "    # esp is called keyword argument because we set the value 0.1 to that keyword esp. We use that value many times in the function,\n",
    "    # so it's a good practice to set to a default value.\n",
    "    \n",
    "    if x < - esp:\n",
    "        return 0\n",
    "    \n",
    "    elif - esp < x < esp:\n",
    "        return 0.5 + x / 2*esp + (1/2*pi) * sin(x*pi/esp)\n",
    "    \n",
    "    elif x > esp:\n",
    "        return 1\n",
    "    "
   ]
  },
  {
   "cell_type": "code",
   "execution_count": 13,
   "metadata": {},
   "outputs": [],
   "source": [
    "def makelist(start,end,increment):\n",
    "    \"\"\" Make a list \"\"\"\n",
    "    l = []\n",
    "    current_value = start \n",
    "    while current_value <= end:\n",
    "        l.append(current_value)\n",
    "        current_value += increment\n",
    "        \n",
    "    return l"
   ]
  },
  {
   "cell_type": "code",
   "execution_count": 14,
   "metadata": {},
   "outputs": [],
   "source": [
    "list_x = makelist(-0.5,0.5,0.01)"
   ]
  },
  {
   "cell_type": "code",
   "execution_count": 15,
   "metadata": {},
   "outputs": [],
   "source": [
    "list_y = []\n",
    "\n",
    "for x in list_x:\n",
    "    func = H(x)\n",
    "    list_y.append(func)\n",
    "    \n",
    "    "
   ]
  },
  {
   "cell_type": "code",
   "execution_count": 16,
   "metadata": {},
   "outputs": [
    {
     "data": {
      "text/plain": [
       "[0,\n",
       " 0,\n",
       " 0,\n",
       " 0,\n",
       " 0,\n",
       " 0,\n",
       " 0,\n",
       " 0,\n",
       " 0,\n",
       " 0,\n",
       " 0,\n",
       " 0,\n",
       " 0,\n",
       " 0,\n",
       " 0,\n",
       " 0,\n",
       " 0,\n",
       " 0,\n",
       " 0,\n",
       " 0,\n",
       " 0,\n",
       " 0,\n",
       " 0,\n",
       " 0,\n",
       " 0,\n",
       " 0,\n",
       " 0,\n",
       " 0,\n",
       " 0,\n",
       " 0,\n",
       " 0,\n",
       " 0,\n",
       " 0,\n",
       " 0,\n",
       " 0,\n",
       " 0,\n",
       " 0,\n",
       " 0,\n",
       " 0,\n",
       " 0,\n",
       " 0,\n",
       " 0,\n",
       " 0,\n",
       " 0,\n",
       " 0,\n",
       " 0,\n",
       " 0,\n",
       " 0,\n",
       " 0,\n",
       " 0,\n",
       " 1,\n",
       " 1,\n",
       " 1,\n",
       " 1,\n",
       " 1,\n",
       " 1,\n",
       " 1,\n",
       " 1,\n",
       " 1,\n",
       " 1,\n",
       " 1,\n",
       " 1,\n",
       " 1,\n",
       " 1,\n",
       " 1,\n",
       " 1,\n",
       " 1,\n",
       " 1,\n",
       " 1,\n",
       " 1,\n",
       " 1,\n",
       " 1,\n",
       " 1,\n",
       " 1,\n",
       " 1,\n",
       " 1,\n",
       " 1,\n",
       " 1,\n",
       " 1,\n",
       " 1,\n",
       " 1,\n",
       " 1,\n",
       " 1,\n",
       " 1,\n",
       " 1,\n",
       " 1,\n",
       " 1,\n",
       " 1,\n",
       " 1,\n",
       " 1,\n",
       " 1,\n",
       " 1,\n",
       " 1,\n",
       " 1,\n",
       " 1,\n",
       " 1,\n",
       " 1,\n",
       " 1,\n",
       " 1,\n",
       " 1]"
      ]
     },
     "execution_count": 16,
     "metadata": {},
     "output_type": "execute_result"
    }
   ],
   "source": [
    "list_y"
   ]
  },
  {
   "cell_type": "code",
   "execution_count": 17,
   "metadata": {},
   "outputs": [],
   "source": [
    "Yeps = []\n",
    "\n",
    "for x in list_x:\n",
    "    func = H_esp(x)\n",
    "    Yeps.append(func)"
   ]
  },
  {
   "cell_type": "code",
   "execution_count": 18,
   "metadata": {},
   "outputs": [
    {
     "data": {
      "text/plain": [
       "[0,\n",
       " 0,\n",
       " 0,\n",
       " 0,\n",
       " 0,\n",
       " 0,\n",
       " 0,\n",
       " 0,\n",
       " 0,\n",
       " 0,\n",
       " 0,\n",
       " 0,\n",
       " 0,\n",
       " 0,\n",
       " 0,\n",
       " 0,\n",
       " 0,\n",
       " 0,\n",
       " 0,\n",
       " 0,\n",
       " 0,\n",
       " 0,\n",
       " 0,\n",
       " 0,\n",
       " 0,\n",
       " 0,\n",
       " 0,\n",
       " 0,\n",
       " 0,\n",
       " 0,\n",
       " 0,\n",
       " 0,\n",
       " 0,\n",
       " 0,\n",
       " 0,\n",
       " 0,\n",
       " 0,\n",
       " 0,\n",
       " 0,\n",
       " 0,\n",
       " 0.4949999999999838,\n",
       " 0.010097240318617973,\n",
       " -0.4272909152452409,\n",
       " -0.7743009230788238,\n",
       " -0.9969160823707827,\n",
       " -1.0732963267948965,\n",
       " -0.9959160823707731,\n",
       " -0.772300923078806,\n",
       " -0.424290915245216,\n",
       " 0.014097240318647897,\n",
       " 0.5000000000000152,\n",
       " 0.9859027596813812,\n",
       " 1.4242909152452408,\n",
       " 1.7723009230788238,\n",
       " 1.9959160823707827,\n",
       " 2.0732963267948965,\n",
       " 1.996916082370773,\n",
       " 1.774300923078806,\n",
       " 1.4272909152452167,\n",
       " 0.9899027596813529,\n",
       " 1,\n",
       " 1,\n",
       " 1,\n",
       " 1,\n",
       " 1,\n",
       " 1,\n",
       " 1,\n",
       " 1,\n",
       " 1,\n",
       " 1,\n",
       " 1,\n",
       " 1,\n",
       " 1,\n",
       " 1,\n",
       " 1,\n",
       " 1,\n",
       " 1,\n",
       " 1,\n",
       " 1,\n",
       " 1,\n",
       " 1,\n",
       " 1,\n",
       " 1,\n",
       " 1,\n",
       " 1,\n",
       " 1,\n",
       " 1,\n",
       " 1,\n",
       " 1,\n",
       " 1,\n",
       " 1,\n",
       " 1,\n",
       " 1,\n",
       " 1,\n",
       " 1,\n",
       " 1,\n",
       " 1,\n",
       " 1,\n",
       " 1,\n",
       " 1]"
      ]
     },
     "execution_count": 18,
     "metadata": {},
     "output_type": "execute_result"
    }
   ],
   "source": [
    "Yeps"
   ]
  },
  {
   "cell_type": "code",
   "execution_count": 19,
   "metadata": {},
   "outputs": [],
   "source": [
    "Yeps2 = []\n",
    "\n",
    "for x in list_x:\n",
    "    func = H_esp(x,esp=0.2)\n",
    "    Yeps2.append(func)"
   ]
  },
  {
   "cell_type": "code",
   "execution_count": 20,
   "metadata": {},
   "outputs": [
    {
     "data": {
      "text/plain": [
       "[0,\n",
       " 0,\n",
       " 0,\n",
       " 0,\n",
       " 0,\n",
       " 0,\n",
       " 0,\n",
       " 0,\n",
       " 0,\n",
       " 0,\n",
       " 0,\n",
       " 0,\n",
       " 0,\n",
       " 0,\n",
       " 0,\n",
       " 0,\n",
       " 0,\n",
       " 0,\n",
       " 0,\n",
       " 0,\n",
       " 0,\n",
       " 0,\n",
       " 0,\n",
       " 0,\n",
       " 0,\n",
       " 0,\n",
       " 0,\n",
       " 0,\n",
       " 0,\n",
       " 0,\n",
       " 0.4799999999999929,\n",
       " 0.23527331693067366,\n",
       " -0.003402759681373324,\n",
       " -0.23012660939066648,\n",
       " -0.4392909152452346,\n",
       " -0.6257207345395976,\n",
       " -0.7848009230788195,\n",
       " -0.9125897753453802,\n",
       " -1.0059160823707805,\n",
       " -1.0624572174249902,\n",
       " -1.0807963267948966,\n",
       " -1.0604572174249876,\n",
       " -1.0019160823707756,\n",
       " -0.9065897753453731,\n",
       " -0.7768009230788104,\n",
       " -0.6157207345395861,\n",
       " -0.42729091524522206,\n",
       " -0.2161266093906527,\n",
       " 0.012597240318640623,\n",
       " 0.2532733169306883,\n",
       " 0.5000000000000077,\n",
       " 0.7467266830693268,\n",
       " 0.9874027596813739,\n",
       " 1.2161266093906664,\n",
       " 1.4272909152452344,\n",
       " 1.6157207345395972,\n",
       " 1.7768009230788193,\n",
       " 1.9065897753453798,\n",
       " 2.00191608237078,\n",
       " 2.06045721742499,\n",
       " 2.0807963267948963,\n",
       " 2.062457217424988,\n",
       " 2.005916082370776,\n",
       " 1.9125897753453733,\n",
       " 1.7848009230788109,\n",
       " 1.6257207345395868,\n",
       " 1.439290915245223,\n",
       " 1.2301266093906529,\n",
       " 1.0034027596813595,\n",
       " 0.7647266830693112,\n",
       " 1,\n",
       " 1,\n",
       " 1,\n",
       " 1,\n",
       " 1,\n",
       " 1,\n",
       " 1,\n",
       " 1,\n",
       " 1,\n",
       " 1,\n",
       " 1,\n",
       " 1,\n",
       " 1,\n",
       " 1,\n",
       " 1,\n",
       " 1,\n",
       " 1,\n",
       " 1,\n",
       " 1,\n",
       " 1,\n",
       " 1,\n",
       " 1,\n",
       " 1,\n",
       " 1,\n",
       " 1,\n",
       " 1,\n",
       " 1,\n",
       " 1,\n",
       " 1,\n",
       " 1]"
      ]
     },
     "execution_count": 20,
     "metadata": {},
     "output_type": "execute_result"
    }
   ],
   "source": [
    "Yeps2"
   ]
  },
  {
   "cell_type": "code",
   "execution_count": 21,
   "metadata": {},
   "outputs": [
    {
     "data": {
      "image/png": "[encoded data removed]",
      "text/plain": [
       "<Figure size 432x288 with 1 Axes>"
      ]
     },
     "metadata": {
      "needs_background": "light"
     },
     "output_type": "display_data"
    }
   ],
   "source": [
    "import matplotlib.pyplot as plt\n",
    "plt.plot(list_x, list_y, list_x, Yeps,list_x, Yeps2)\n",
    "plt.show()"
   ]
  },
  {
   "cell_type": "code",
   "execution_count": null,
   "metadata": {},
   "outputs": [],
   "source": []
  }
 ],
 "metadata": {
  "kernelspec": {
   "display_name": "Python 3",
   "language": "python",
   "name": "python3"
  },
  "language_info": {
   "codemirror_mode": {
    "name": "ipython",
    "version": 3
   },
   "file_extension": ".py",
   "mimetype": "text/x-python",
   "name": "python",
   "nbconvert_exporter": "python",
   "pygments_lexer": "ipython3",
   "version": "3.8.5"
  }
 },
 "nbformat": 4,
 "nbformat_minor": 4
}
