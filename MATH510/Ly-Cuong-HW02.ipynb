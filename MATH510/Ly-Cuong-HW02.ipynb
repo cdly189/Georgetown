{
 "cells": [
  {
   "cell_type": "markdown",
   "metadata": {},
   "source": [
    "# MATH 510 Cuong Ly- Homework 2"
   ]
  },
  {
   "cell_type": "markdown",
   "metadata": {},
   "source": [
    "### Exercise 1"
   ]
  },
  {
   "cell_type": "code",
   "execution_count": 1,
   "metadata": {},
   "outputs": [
    {
     "name": "stdout",
     "output_type": "stream",
     "text": [
      "2\n",
      "3\n",
      "5\n",
      "7\n",
      "11\n",
      "13\n",
      "[2, 3, 5, 7, 11, 13, 17]\n"
     ]
    }
   ],
   "source": [
    "primes = [2,3,5,7,11,13]\n",
    "# Print each element in list primes\n",
    "for prime in primes:\n",
    "    print(prime)\n",
    "\n",
    "p = 17\n",
    "primes.append(p)\n",
    "print(primes)"
   ]
  },
  {
   "cell_type": "markdown",
   "metadata": {},
   "source": [
    "### Exercise 2"
   ]
  },
  {
   "cell_type": "code",
   "execution_count": 2,
   "metadata": {},
   "outputs": [
    {
     "name": "stdout",
     "output_type": "stream",
     "text": [
      "1.83333\n"
     ]
    }
   ],
   "source": [
    "M = 3 ; s = 0; k =1\n",
    "\n",
    "for i in range(1,M+1):\n",
    "    s += 1/k \n",
    "    k += 1\n",
    "print(f'{s:.5f}')"
   ]
  },
  {
   "cell_type": "markdown",
   "metadata": {},
   "source": [
    "### Exercise 3"
   ]
  },
  {
   "cell_type": "code",
   "execution_count": 3,
   "metadata": {},
   "outputs": [
    {
     "data": {
      "text/plain": [
       "[1.0, 1.9, 2.8, 3.7, 4.6, 5.5, 6.4, 7.3, 8.2, 9.1, 10.0]"
      ]
     },
     "execution_count": 3,
     "metadata": {},
     "output_type": "execute_result"
    }
   ],
   "source": [
    "equally_space = []\n",
    "a = 1 ; b = 10 ; n = 10 \n",
    "h = (b-a) / n\n",
    "\n",
    "for i in range(0,n+1):\n",
    "    x_i = a + i * h\n",
    "    equally_space.append(x_i)\n",
    "    \n",
    "equally_space"
   ]
  },
  {
   "cell_type": "code",
   "execution_count": 4,
   "metadata": {},
   "outputs": [
    {
     "data": {
      "text/plain": [
       "[1.0, 1.9, 2.8, 3.7, 4.6, 5.5, 6.4, 7.3, 8.2, 9.1, 10.0]"
      ]
     },
     "execution_count": 4,
     "metadata": {},
     "output_type": "execute_result"
    }
   ],
   "source": [
    "# Use list comprehension\n",
    "equally_space = []\n",
    "a = 1 ; b = 10 ; n = 10 \n",
    "h = (b-a) / n\n",
    "\n",
    "equally_space = [a + i * h for i in range(0,n+1)]\n",
    "equally_space"
   ]
  },
  {
   "cell_type": "markdown",
   "metadata": {},
   "source": [
    "### Exercise 4"
   ]
  },
  {
   "cell_type": "code",
   "execution_count": 5,
   "metadata": {},
   "outputs": [
    {
     "name": "stdout",
     "output_type": "stream",
     "text": [
      "Time   Distance\n",
      "0.000   0.000\n",
      "0.122   0.661\n",
      "0.245   1.176\n",
      "0.367   1.543\n",
      "0.490   1.763\n",
      "0.612   1.837\n",
      "0.735   1.763\n",
      "0.857   1.543\n",
      "0.980   1.176\n",
      "1.102   0.661\n",
      "1.224   0.000\n"
     ]
    }
   ],
   "source": [
    "v0 = 6 ; g = 9.8 ; n = 10 \n",
    "a = 0 ; b = 2 * v0 / g\n",
    "h = (b - a) / n\n",
    "\n",
    "print('Time   Distance')\n",
    "for t in range(0, n +1):\n",
    "    time = a + t * h\n",
    "    y_t = v0 * time - 0.5 * g * time**2 \n",
    "    print(f'{time:.3f}   {y_t:.3f}')"
   ]
  },
  {
   "cell_type": "code",
   "execution_count": 6,
   "metadata": {},
   "outputs": [
    {
     "name": "stdout",
     "output_type": "stream",
     "text": [
      "Time   Distance\n",
      "0.000   0.000\n",
      "0.122   0.661\n",
      "0.245   1.176\n",
      "0.367   1.543\n",
      "0.490   1.763\n",
      "0.612   1.837\n",
      "0.735   1.763\n",
      "0.857   1.543\n",
      "0.980   1.176\n",
      "1.102   0.661\n",
      "1.224   0.000\n"
     ]
    }
   ],
   "source": [
    "# Using a while loop\n",
    "v0 = 6 ; g = 9.8 ; n = 10 \n",
    "a = 0 ; b = 2 * v0 / g\n",
    "h = (b - a) / n\n",
    "t = 0\n",
    "print('Time   Distance')\n",
    "\n",
    "while t < n +1:\n",
    "    time = a + t * h\n",
    "    y_t = v0 * time - 0.5 * g * time**2 \n",
    "    print(f'{time:.3f}   {y_t:.3f}')\n",
    "    t += 1"
   ]
  },
  {
   "cell_type": "markdown",
   "metadata": {},
   "source": [
    "### Exercise 5"
   ]
  },
  {
   "cell_type": "code",
   "execution_count": 7,
   "metadata": {},
   "outputs": [
    {
     "name": "stdout",
     "output_type": "stream",
     "text": [
      "0\n",
      "1\n",
      "1\n",
      "2\n",
      "3\n",
      "5\n",
      "8\n",
      "13\n",
      "21\n",
      "34\n",
      "55\n",
      "89\n",
      "144\n",
      "233\n",
      "377\n",
      "610\n",
      "987\n",
      "1597\n",
      "2584\n",
      "4181\n",
      "6765\n",
      "10946\n",
      "17711\n",
      "28657\n",
      "46368\n",
      "75025\n",
      "121393\n",
      "196418\n",
      "317811\n",
      "514229\n",
      "832040\n",
      "1346269\n",
      "2178309\n",
      "3524578\n",
      "5702887\n",
      "9227465\n",
      "14930352\n",
      "24157817\n",
      "39088169\n",
      "63245986\n",
      "102334155\n",
      "165580141\n",
      "267914296\n",
      "433494437\n",
      "701408733\n",
      "1134903170\n",
      "1836311903\n",
      "2971215073\n",
      "4807526976\n",
      "7778742049\n"
     ]
    }
   ],
   "source": [
    "# A list of 50 Fibonacci numbers\n",
    "\n",
    "number_of_term = 50\n",
    "number = 0\n",
    "first_val = 0 ; second_val = 1\n",
    "count = 0\n",
    "\n",
    "while (count < number_of_term):\n",
    "    print(first_val)\n",
    "    number = first_val + second_val\n",
    "    first_val = second_val\n",
    "    second_val = number\n",
    "    count +=1"
   ]
  },
  {
   "cell_type": "code",
   "execution_count": 8,
   "metadata": {},
   "outputs": [
    {
     "name": "stdout",
     "output_type": "stream",
     "text": [
      "0\n",
      "1\n",
      "1\n",
      "2\n",
      "3\n",
      "5\n",
      "8\n",
      "13\n",
      "21\n",
      "34\n",
      "55\n",
      "89\n",
      "144\n",
      "233\n",
      "377\n",
      "610\n",
      "987\n",
      "1597\n",
      "2584\n",
      "4181\n",
      "6765\n",
      "10946\n",
      "17711\n",
      "28657\n",
      "46368\n",
      "75025\n",
      "121393\n",
      "196418\n",
      "317811\n",
      "514229\n",
      "832040\n",
      "1346269\n",
      "2178309\n",
      "3524578\n",
      "5702887\n",
      "9227465\n",
      "14930352\n",
      "24157817\n",
      "39088169\n",
      "63245986\n",
      "102334155\n",
      "165580141\n",
      "267914296\n",
      "433494437\n",
      "701408733\n",
      "1134903170\n",
      "1836311903\n",
      "2971215073\n",
      "4807526976\n",
      "7778742049\n",
      "12586269025\n",
      "20365011074\n",
      "32951280099\n",
      "53316291173\n",
      "86267571272\n",
      "139583862445\n",
      "225851433717\n",
      "365435296162\n",
      "591286729879\n",
      "956722026041\n",
      "1548008755920\n",
      "2504730781961\n",
      "4052739537881\n",
      "6557470319842\n",
      "10610209857723\n",
      "17167680177565\n",
      "27777890035288\n",
      "44945570212853\n",
      "72723460248141\n",
      "117669030460994\n",
      "190392490709135\n",
      "308061521170129\n",
      "498454011879264\n",
      "806515533049393\n",
      "1304969544928657\n",
      "2111485077978050\n",
      "3416454622906707\n",
      "5527939700884757\n",
      "8944394323791464\n",
      "14472334024676221\n",
      "23416728348467685\n",
      "37889062373143906\n",
      "61305790721611591\n",
      "99194853094755497\n",
      "160500643816367088\n",
      "259695496911122585\n",
      "420196140727489673\n",
      "679891637638612258\n",
      "1100087778366101931\n",
      "1779979416004714189\n",
      "2880067194370816120\n",
      "4660046610375530309\n",
      "7540113804746346429\n",
      "12200160415121876738\n",
      "19740274219868223167\n",
      "31940434634990099905\n",
      "51680708854858323072\n",
      "83621143489848422977\n",
      "135301852344706746049\n",
      "218922995834555169026\n"
     ]
    }
   ],
   "source": [
    "# A list of 100 Fibonacci numbers\n",
    "\n",
    "number_of_term = 100\n",
    "number = 0\n",
    "first_val = 0 ; second_val = 1\n",
    "count = 0\n",
    "\n",
    "while (count < number_of_term):\n",
    "    print(first_val)\n",
    "    number = first_val + second_val\n",
    "    first_val = second_val\n",
    "    second_val = number\n",
    "    count +=1"
   ]
  },
  {
   "cell_type": "code",
   "execution_count": 9,
   "metadata": {},
   "outputs": [],
   "source": [
    "# The last element of Fib100 is 218922995834555169026"
   ]
  }
 ],
 "metadata": {
  "kernelspec": {
   "display_name": "Python 3",
   "language": "python",
   "name": "python3"
  },
  "language_info": {
   "codemirror_mode": {
    "name": "ipython",
    "version": 3
   },
   "file_extension": ".py",
   "mimetype": "text/x-python",
   "name": "python",
   "nbconvert_exporter": "python",
   "pygments_lexer": "ipython3",
   "version": "3.8.5"
  }
 },
 "nbformat": 4,
 "nbformat_minor": 4
}
